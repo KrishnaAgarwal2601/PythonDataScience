{
 "cells": [
  {
   "cell_type": "markdown",
   "metadata": {},
   "source": [
    "- builtin functions\n",
    "    - input()\n",
    "    - print()\n",
    "    - type()\n",
    "    - ininstance()\n",
    "    - len()\n",
    "    - min()\n",
    "    - max()\n",
    "    - sum()\n",
    "    - abs()\n",
    "    - round()\n",
    "    - eval()\n",
    "    - all()\n",
    "    - any()\n",
    "    - open()"
   ]
  },
  {
   "cell_type": "code",
   "execution_count": 1,
   "metadata": {},
   "outputs": [
    {
     "data": {
      "text/plain": [
       "True"
      ]
     },
     "execution_count": 1,
     "metadata": {},
     "output_type": "execute_result"
    }
   ],
   "source": [
    "x = 12888.89\n",
    "isinstance(x,(int,float))"
   ]
  },
  {
   "cell_type": "code",
   "execution_count": 2,
   "metadata": {},
   "outputs": [
    {
     "data": {
      "text/plain": [
       "True"
      ]
     },
     "execution_count": 2,
     "metadata": {},
     "output_type": "execute_result"
    }
   ],
   "source": [
    "data = [1,2,3]\n",
    "isinstance(data,(list,set))"
   ]
  },
  {
   "cell_type": "code",
   "execution_count": 3,
   "metadata": {},
   "outputs": [
    {
     "data": {
      "text/plain": [
       "10"
      ]
     },
     "execution_count": 3,
     "metadata": {},
     "output_type": "execute_result"
    }
   ],
   "source": [
    "abs(-10)"
   ]
  },
  {
   "cell_type": "code",
   "execution_count": 5,
   "metadata": {},
   "outputs": [
    {
     "name": "stdout",
     "output_type": "stream",
     "text": [
      "1.29827\n",
      "1\n",
      "1.3\n"
     ]
    }
   ],
   "source": [
    "a = 1.29827\n",
    "print(a)\n",
    "print(round(a))\n",
    "print(round(a,2))"
   ]
  },
  {
   "cell_type": "code",
   "execution_count": 7,
   "metadata": {},
   "outputs": [
    {
     "name": "stdout",
     "output_type": "stream",
     "text": [
      "your equation is x*y\n",
      "30\n"
     ]
    }
   ],
   "source": [
    "x = 10\n",
    "y = 3\n",
    "expression = input(\"enter your equation using x and y:\")\n",
    "print(\"your equation is\",expression)\n",
    "print(eval(expression))"
   ]
  },
  {
   "cell_type": "code",
   "execution_count": 8,
   "metadata": {},
   "outputs": [
    {
     "name": "stdout",
     "output_type": "stream",
     "text": [
      "True\n",
      "False\n",
      "False\n",
      "False\n",
      "True\n",
      "True\n"
     ]
    }
   ],
   "source": [
    "x = [1,2,3,4,5,6]\n",
    "y = [1,2,3,4,5,0]\n",
    "z = [0,0,0,0,0,0]\n",
    "a = [0,0,0,0,0,1]\n",
    "print(all(x))\n",
    "print(all(y))\n",
    "print(all(z))\n",
    "print(any(z))\n",
    "print(any(a))\n",
    "print(any(x))"
   ]
  },
  {
   "cell_type": "code",
   "execution_count": 9,
   "metadata": {},
   "outputs": [
    {
     "name": "stdout",
     "output_type": "stream",
     "text": [
      "False False True True True\n"
     ]
    }
   ],
   "source": [
    "print(bool(0),bool(''),bool('asd'),bool(-1),bool(120))"
   ]
  },
  {
   "cell_type": "markdown",
   "metadata": {},
   "source": [
    "file handling with open()\n",
    "- read\n",
    "- write\n",
    "- append"
   ]
  },
  {
   "cell_type": "code",
   "execution_count": 11,
   "metadata": {},
   "outputs": [],
   "source": [
    "file = open('../dummy.txt')"
   ]
  },
  {
   "cell_type": "code",
   "execution_count": 13,
   "metadata": {},
   "outputs": [
    {
     "data": {
      "text/plain": [
       "'This is a dummy file'"
      ]
     },
     "execution_count": 13,
     "metadata": {},
     "output_type": "execute_result"
    }
   ],
   "source": [
    "file.read()"
   ]
  },
  {
   "cell_type": "code",
   "execution_count": 14,
   "metadata": {},
   "outputs": [
    {
     "name": "stdout",
     "output_type": "stream",
     "text": [
      "This is a dummy file\n"
     ]
    }
   ],
   "source": [
    "with open('../dummy.txt') as file:\n",
    "    print(file.read())"
   ]
  },
  {
   "cell_type": "code",
   "execution_count": 15,
   "metadata": {},
   "outputs": [
    {
     "name": "stdout",
     "output_type": "stream",
     "text": [
      "{\n",
      " \"cells\": [\n",
      "  {\n",
      "   \"cell_type\": \"markdown\",\n",
      "   \"metadata\": {},\n",
      "   \"source\": [\n",
      "    \"- builtin functions\\n\",\n",
      "    \"    - input()\\n\",\n",
      "    \"    - print()\\n\",\n",
      "    \"    - type()\\n\",\n",
      "    \"    - ininstance()\\n\",\n",
      "    \"    - len()\\n\",\n",
      "    \"    - min()\\n\",\n",
      "    \"    - max()\\n\",\n",
      "    \"    - sum()\\n\",\n",
      "    \"    - abs()\\n\",\n",
      "    \"    - round()\\n\",\n",
      "    \"    - eval()\\n\",\n",
      "    \"    - all()\\n\",\n",
      "    \"    - any()\\n\",\n",
      "    \"    - open()\"\n",
      "   ]\n",
      "  },\n",
      "  {\n",
      "   \"cell_type\": \"code\",\n",
      "   \"execution_count\": 1,\n",
      "   \"metadata\": {},\n",
      "   \"outputs\": [\n",
      "    {\n",
      "     \"data\": {\n",
      "      \"text/plain\": [\n",
      "       \"True\"\n",
      "      ]\n",
      "     },\n",
      "     \"execution_count\": 1,\n",
      "     \"metadata\": {},\n",
      "     \"output_type\": \"execute_result\"\n",
      "    }\n",
      "   ],\n",
      "   \"source\": [\n",
      "    \"x = 12888.89\\n\",\n",
      "    \"isinstance(x,(int,float))\"\n",
      "   ]\n",
      "  },\n",
      "  {\n",
      "   \"cell_type\": \"code\",\n",
      "   \"execution_count\": 2,\n",
      "   \"metadata\": {},\n",
      "   \"outputs\": [\n",
      "    {\n",
      "     \"data\": {\n",
      "      \"text/plain\": [\n",
      "       \"True\"\n",
      "      ]\n",
      "     },\n",
      "     \"execution_count\": 2,\n",
      "     \"metadata\": {},\n",
      "     \"output_type\": \"execute_result\"\n",
      "    }\n",
      "   ],\n",
      "   \"source\": [\n",
      "    \"data = [1,2,3]\\n\",\n",
      "    \"isinstance(data,(list,set))\"\n",
      "   ]\n",
      "  },\n",
      "  {\n",
      "   \"cell_type\": \"code\",\n",
      "   \"execution_count\": 3,\n",
      "   \"metadata\": {},\n",
      "   \"outputs\": [\n",
      "    {\n",
      "     \"data\": {\n",
      "      \"text/plain\": [\n",
      "       \"10\"\n",
      "      ]\n",
      "     },\n",
      "     \"execution_count\": 3,\n",
      "     \"metadata\": {},\n",
      "     \"output_type\": \"execute_result\"\n",
      "    }\n",
      "   ],\n",
      "   \"source\": [\n",
      "    \"abs(-10)\"\n",
      "   ]\n",
      "  },\n",
      "  {\n",
      "   \"cell_type\": \"code\",\n",
      "   \"execution_count\": 5,\n",
      "   \"metadata\": {},\n",
      "   \"outputs\": [\n",
      "    {\n",
      "     \"name\": \"stdout\",\n",
      "     \"output_type\": \"stream\",\n",
      "     \"text\": [\n",
      "      \"1.29827\\n\",\n",
      "      \"1\\n\",\n",
      "      \"1.3\\n\"\n",
      "     ]\n",
      "    }\n",
      "   ],\n",
      "   \"source\": [\n",
      "    \"a = 1.29827\\n\",\n",
      "    \"print(a)\\n\",\n",
      "    \"print(round(a))\\n\",\n",
      "    \"print(round(a,2))\"\n",
      "   ]\n",
      "  },\n",
      "  {\n",
      "   \"cell_type\": \"code\",\n",
      "   \"execution_count\": 7,\n",
      "   \"metadata\": {},\n",
      "   \"outputs\": [\n",
      "    {\n",
      "     \"name\": \"stdout\",\n",
      "     \"output_type\": \"stream\",\n",
      "     \"text\": [\n",
      "      \"your equation is x*y\\n\",\n",
      "      \"30\\n\"\n",
      "     ]\n",
      "    }\n",
      "   ],\n",
      "   \"source\": [\n",
      "    \"x = 10\\n\",\n",
      "    \"y = 3\\n\",\n",
      "    \"expression = input(\\\"enter your equation using x and y:\\\")\\n\",\n",
      "    \"print(\\\"your equation is\\\",expression)\\n\",\n",
      "    \"print(eval(expression))\"\n",
      "   ]\n",
      "  },\n",
      "  {\n",
      "   \"cell_type\": \"code\",\n",
      "   \"execution_count\": 8,\n",
      "   \"metadata\": {},\n",
      "   \"outputs\": [\n",
      "    {\n",
      "     \"name\": \"stdout\",\n",
      "     \"output_type\": \"stream\",\n",
      "     \"text\": [\n",
      "      \"True\\n\",\n",
      "      \"False\\n\",\n",
      "      \"False\\n\",\n",
      "      \"False\\n\",\n",
      "      \"True\\n\",\n",
      "      \"True\\n\"\n",
      "     ]\n",
      "    }\n",
      "   ],\n",
      "   \"source\": [\n",
      "    \"x = [1,2,3,4,5,6]\\n\",\n",
      "    \"y = [1,2,3,4,5,0]\\n\",\n",
      "    \"z = [0,0,0,0,0,0]\\n\",\n",
      "    \"a = [0,0,0,0,0,1]\\n\",\n",
      "    \"print(all(x))\\n\",\n",
      "    \"print(all(y))\\n\",\n",
      "    \"print(all(z))\\n\",\n",
      "    \"print(any(z))\\n\",\n",
      "    \"print(any(a))\\n\",\n",
      "    \"print(any(x))\"\n",
      "   ]\n",
      "  },\n",
      "  {\n",
      "   \"cell_type\": \"code\",\n",
      "   \"execution_count\": 9,\n",
      "   \"metadata\": {},\n",
      "   \"outputs\": [\n",
      "    {\n",
      "     \"name\": \"stdout\",\n",
      "     \"output_type\": \"stream\",\n",
      "     \"text\": [\n",
      "      \"False False True True True\\n\"\n",
      "     ]\n",
      "    }\n",
      "   ],\n",
      "   \"source\": [\n",
      "    \"print(bool(0),bool(''),bool('asd'),bool(-1),bool(120))\"\n",
      "   ]\n",
      "  },\n",
      "  {\n",
      "   \"cell_type\": \"markdown\",\n",
      "   \"metadata\": {},\n",
      "   \"source\": [\n",
      "    \"file handling with open()\\n\",\n",
      "    \"- read\\n\",\n",
      "    \"- write\\n\",\n",
      "    \"- append\"\n",
      "   ]\n",
      "  },\n",
      "  {\n",
      "   \"cell_type\": \"code\",\n",
      "   \"execution_count\": 11,\n",
      "   \"metadata\": {},\n",
      "   \"outputs\": [],\n",
      "   \"source\": [\n",
      "    \"file = open('../dummy.txt')\"\n",
      "   ]\n",
      "  },\n",
      "  {\n",
      "   \"cell_type\": \"code\",\n",
      "   \"execution_count\": 13,\n",
      "   \"metadata\": {},\n",
      "   \"outputs\": [\n",
      "    {\n",
      "     \"data\": {\n",
      "      \"text/plain\": [\n",
      "       \"'This is a dummy file'\"\n",
      "      ]\n",
      "     },\n",
      "     \"execution_count\": 13,\n",
      "     \"metadata\": {},\n",
      "     \"output_type\": \"execute_result\"\n",
      "    }\n",
      "   ],\n",
      "   \"source\": [\n",
      "    \"file.read()\"\n",
      "   ]\n",
      "  },\n",
      "  {\n",
      "   \"cell_type\": \"code\",\n",
      "   \"execution_count\": 14,\n",
      "   \"metadata\": {},\n",
      "   \"outputs\": [\n",
      "    {\n",
      "     \"name\": \"stdout\",\n",
      "     \"output_type\": \"stream\",\n",
      "     \"text\": [\n",
      "      \"This is a dummy file\\n\"\n",
      "     ]\n",
      "    }\n",
      "   ],\n",
      "   \"source\": [\n",
      "    \"with open('../dummy.txt') as file:\\n\",\n",
      "    \"    print(file.read())\"\n",
      "   ]\n",
      "  },\n",
      "  {\n",
      "   \"cell_type\": \"code\",\n",
      "   \"execution_count\": null,\n",
      "   \"metadata\": {},\n",
      "   \"outputs\": [],\n",
      "   \"source\": [\n",
      "    \"with open('builtin.ipynb') as file:\\n\",\n",
      "    \"    print(file.read())\"\n",
      "   ]\n",
      "  }\n",
      " ],\n",
      " \"metadata\": {\n",
      "  \"kernelspec\": {\n",
      "   \"display_name\": \"base\",\n",
      "   \"language\": \"python\",\n",
      "   \"name\": \"python3\"\n",
      "  },\n",
      "  \"language_info\": {\n",
      "   \"codemirror_mode\": {\n",
      "    \"name\": \"ipython\",\n",
      "    \"version\": 3\n",
      "   },\n",
      "   \"file_extension\": \".py\",\n",
      "   \"mimetype\": \"text/x-python\",\n",
      "   \"name\": \"python\",\n",
      "   \"nbconvert_exporter\": \"python\",\n",
      "   \"pygments_lexer\": \"ipython3\",\n",
      "   \"version\": \"3.11.4\"\n",
      "  }\n",
      " },\n",
      " \"nbformat\": 4,\n",
      " \"nbformat_minor\": 2\n",
      "}\n",
      "\n"
     ]
    }
   ],
   "source": [
    "with open('builtin.ipynb') as file:\n",
    "    print(file.read())"
   ]
  },
  {
   "cell_type": "code",
   "execution_count": 16,
   "metadata": {},
   "outputs": [
    {
     "name": "stdout",
     "output_type": "stream",
     "text": [
      "['This', 'is', 'a', 'dummy', 'file']\n"
     ]
    }
   ],
   "source": [
    "with open('../dummy.txt') as file:\n",
    "    content=file.read()\n",
    "print(content.split())"
   ]
  },
  {
   "cell_type": "code",
   "execution_count": 18,
   "metadata": {},
   "outputs": [
    {
     "name": "stdout",
     "output_type": "stream",
     "text": [
      "swbskjskw\n"
     ]
    }
   ],
   "source": [
    "path = 'C:\\\\Users\\\\acer\\\\OneDrive\\\\Desktop\\\\skbzj.txt'\n",
    "with open(path) as f:\n",
    "    print(f.read())"
   ]
  },
  {
   "cell_type": "code",
   "execution_count": 19,
   "metadata": {},
   "outputs": [
    {
     "name": "stdout",
     "output_type": "stream",
     "text": [
      "swbskjskw\n"
     ]
    }
   ],
   "source": [
    "path = r'C:\\Users\\acer\\OneDrive\\Desktop\\skbzj.txt'\n",
    "with open(path) as f:\n",
    "    print(f.read())"
   ]
  },
  {
   "cell_type": "code",
   "execution_count": 21,
   "metadata": {},
   "outputs": [
    {
     "name": "stdout",
     "output_type": "stream",
     "text": [
      "1111.23\n",
      "3\n",
      "2281.23\n"
     ]
    }
   ],
   "source": [
    "x = [332,3,43,498,294,1111.23]\n",
    "print(max(x))\n",
    "print(min(x))\n",
    "print(sum(x))"
   ]
  },
  {
   "cell_type": "code",
   "execution_count": 22,
   "metadata": {},
   "outputs": [],
   "source": [
    "meri_kahani = '''Once upon a time\n",
    "there was a person,\n",
    "to be continued...\n",
    "'''\n",
    "\n",
    "with open('kahani.txt','w') as f:\n",
    "    f.write(meri_kahani)"
   ]
  },
  {
   "cell_type": "code",
   "execution_count": 25,
   "metadata": {},
   "outputs": [
    {
     "name": "stdout",
     "output_type": "stream",
     "text": [
      "file saved\n"
     ]
    }
   ],
   "source": [
    "dusri_kahani='''Ek samay ki baat h\n",
    "to be continued...\n",
    "'''\n",
    "addr =\"C:/Users/acer/OneDrive/Documents/dusri_kahani.txt\"\n",
    "with open(addr,'w') as f:\n",
    "    f.write(dusri_kahani)\n",
    "    print('file saved')"
   ]
  },
  {
   "cell_type": "code",
   "execution_count": 27,
   "metadata": {},
   "outputs": [
    {
     "name": "stdout",
     "output_type": "stream",
     "text": [
      "file updated\n"
     ]
    }
   ],
   "source": [
    "user_ka_data = input('Enter your story:')\n",
    "with open(addr,'a') as f:\n",
    "    f.write(\"/n\"+ user_ka_data)\n",
    "    print('file updated')\n"
   ]
  },
  {
   "cell_type": "code",
   "execution_count": null,
   "metadata": {},
   "outputs": [],
   "source": []
  },
  {
   "cell_type": "code",
   "execution_count": null,
   "metadata": {},
   "outputs": [],
   "source": []
  }
 ],
 "metadata": {
  "kernelspec": {
   "display_name": "base",
   "language": "python",
   "name": "python3"
  },
  "language_info": {
   "codemirror_mode": {
    "name": "ipython",
    "version": 3
   },
   "file_extension": ".py",
   "mimetype": "text/x-python",
   "name": "python",
   "nbconvert_exporter": "python",
   "pygments_lexer": "ipython3",
   "version": "3.11.4"
  }
 },
 "nbformat": 4,
 "nbformat_minor": 2
}
