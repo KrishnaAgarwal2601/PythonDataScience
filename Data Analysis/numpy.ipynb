{
 "cells": [
  {
   "cell_type": "code",
   "execution_count": 3,
   "metadata": {},
   "outputs": [],
   "source": [
    "import numpy as np"
   ]
  },
  {
   "cell_type": "code",
   "execution_count": 4,
   "metadata": {},
   "outputs": [
    {
     "name": "stdout",
     "output_type": "stream",
     "text": [
      "[ 0  1  2  3  4  5  6  7  8  9 10 11 12 13 14]\n",
      "[[ 0  1  2  3  4]\n",
      " [ 5  6  7  8  9]\n",
      " [10 11 12 13 14]]\n"
     ]
    }
   ],
   "source": [
    "# creating array with arrange function of numpy\n",
    "a = np.arange(15) # single dimensional\n",
    "print (a)\n",
    "a = np.arange(15).reshape(3,5) # multi dimensional\n",
    "print(a)"
   ]
  },
  {
   "cell_type": "code",
   "execution_count": 5,
   "metadata": {},
   "outputs": [
    {
     "data": {
      "text/plain": [
       "15"
      ]
     },
     "execution_count": 5,
     "metadata": {},
     "output_type": "execute_result"
    }
   ],
   "source": [
    "# size of array\n",
    "a.size"
   ]
  },
  {
   "cell_type": "code",
   "execution_count": 6,
   "metadata": {},
   "outputs": [
    {
     "name": "stdout",
     "output_type": "stream",
     "text": [
      "[1 2 3 4 5]\n"
     ]
    }
   ],
   "source": [
    "x = np.array([1,2,3,4,5])\n",
    "print(x)"
   ]
  },
  {
   "cell_type": "code",
   "execution_count": 7,
   "metadata": {},
   "outputs": [
    {
     "name": "stdout",
     "output_type": "stream",
     "text": [
      "[[1 2 3]\n",
      " [4 5 6]]\n"
     ]
    }
   ],
   "source": [
    "y = np.array([[1,2,3],[4,5,6]])\n",
    "print(y)"
   ]
  },
  {
   "cell_type": "code",
   "execution_count": 8,
   "metadata": {},
   "outputs": [
    {
     "name": "stdout",
     "output_type": "stream",
     "text": [
      "shape: (5,)\n",
      "num of dimensions: 1\n",
      "type of data: int32\n",
      "Y\n",
      "shape: (2, 3)\n",
      "num of dimensions: 2\n",
      "type of data int32\n"
     ]
    }
   ],
   "source": [
    "print('shape:',x.shape)\n",
    "print('num of dimensions:',x.ndim)\n",
    "print('type of data:',x.dtype)\n",
    "print(\"Y\")\n",
    "print('shape:',y.shape)\n",
    "print('num of dimensions:',y.ndim)\n",
    "print('type of data',y.dtype)"
   ]
  },
  {
   "cell_type": "markdown",
   "metadata": {},
   "source": [
    "- arange\n",
    "- linspace\n",
    "- random.*\n",
    "- eye\n",
    "- ones\n",
    "- zeros"
   ]
  },
  {
   "cell_type": "code",
   "execution_count": 9,
   "metadata": {},
   "outputs": [],
   "source": [
    "np.set_printoptions(precision=4,suppress=True)"
   ]
  },
  {
   "cell_type": "code",
   "execution_count": 10,
   "metadata": {},
   "outputs": [
    {
     "name": "stdout",
     "output_type": "stream",
     "text": [
      "[-10.   -9.8  -9.6  -9.4  -9.2  -9.   -8.8  -8.6  -8.4  -8.2  -8.   -7.8\n",
      "  -7.6  -7.4  -7.2  -7.   -6.8  -6.6  -6.4  -6.2  -6.   -5.8  -5.6  -5.4\n",
      "  -5.2  -5.   -4.8  -4.6  -4.4  -4.2  -4.   -3.8  -3.6  -3.4  -3.2  -3.\n",
      "  -2.8  -2.6  -2.4  -2.2  -2.   -1.8  -1.6  -1.4  -1.2  -1.   -0.8  -0.6\n",
      "  -0.4  -0.2  -0.    0.2   0.4   0.6   0.8   1.    1.2   1.4   1.6   1.8\n",
      "   2.    2.2   2.4   2.6   2.8   3.    3.2   3.4   3.6   3.8   4.    4.2\n",
      "   4.4   4.6   4.8   5.    5.2   5.4   5.6   5.8   6.    6.2   6.4   6.6\n",
      "   6.8   7.    7.2   7.4   7.6   7.8   8.    8.2   8.4   8.6   8.8   9.\n",
      "   9.2   9.4   9.6   9.8]\n"
     ]
    }
   ],
   "source": [
    "a = np.arange(-10,10,.2)\n",
    "print(a)"
   ]
  },
  {
   "cell_type": "code",
   "execution_count": 11,
   "metadata": {},
   "outputs": [
    {
     "name": "stdout",
     "output_type": "stream",
     "text": [
      "100\n"
     ]
    }
   ],
   "source": [
    "print(a.size)"
   ]
  },
  {
   "cell_type": "code",
   "execution_count": 12,
   "metadata": {},
   "outputs": [
    {
     "name": "stdout",
     "output_type": "stream",
     "text": [
      "[0.     0.1111 0.2222 0.3333 0.4444 0.5556 0.6667 0.7778 0.8889 1.    ]\n"
     ]
    }
   ],
   "source": [
    "b = np.linspace(0,1,10)\n",
    "print(b)"
   ]
  },
  {
   "cell_type": "code",
   "execution_count": 13,
   "metadata": {},
   "outputs": [
    {
     "data": {
      "text/plain": [
       "array([[0.6229, 0.9615, 0.7482],\n",
       "       [0.0295, 0.2563, 0.1488],\n",
       "       [0.6118, 0.8419, 0.5087]])"
      ]
     },
     "execution_count": 13,
     "metadata": {},
     "output_type": "execute_result"
    }
   ],
   "source": [
    "np.random.random((3,3)) #random values between 0 and 1"
   ]
  },
  {
   "cell_type": "code",
   "execution_count": 14,
   "metadata": {},
   "outputs": [
    {
     "data": {
      "text/plain": [
       "array([[ 91, 131,  55],\n",
       "       [212, 563, 914],\n",
       "       [153, 402, 435]])"
      ]
     },
     "execution_count": 14,
     "metadata": {},
     "output_type": "execute_result"
    }
   ],
   "source": [
    "np.random.randint(1,1000,(3,3)) # random values between start and end"
   ]
  },
  {
   "cell_type": "code",
   "execution_count": 15,
   "metadata": {},
   "outputs": [
    {
     "data": {
      "text/plain": [
       "array([[1, 0, 0, 0, 0],\n",
       "       [0, 1, 0, 0, 0],\n",
       "       [0, 0, 1, 0, 0],\n",
       "       [0, 0, 0, 1, 0],\n",
       "       [0, 0, 0, 0, 1]])"
      ]
     },
     "execution_count": 15,
     "metadata": {},
     "output_type": "execute_result"
    }
   ],
   "source": [
    "np.eye(5,dtype=int) # identity matrix\n",
    "# for rotating use rot(angle)"
   ]
  },
  {
   "cell_type": "code",
   "execution_count": 16,
   "metadata": {},
   "outputs": [
    {
     "data": {
      "text/plain": [
       "array([[1, 1, 1, 1, 1],\n",
       "       [1, 1, 1, 1, 1],\n",
       "       [1, 1, 1, 1, 1],\n",
       "       [1, 1, 1, 1, 1],\n",
       "       [1, 1, 1, 1, 1]])"
      ]
     },
     "execution_count": 16,
     "metadata": {},
     "output_type": "execute_result"
    }
   ],
   "source": [
    "np.ones((5,5),dtype=int)"
   ]
  },
  {
   "cell_type": "code",
   "execution_count": 17,
   "metadata": {},
   "outputs": [
    {
     "data": {
      "text/plain": [
       "array([[0, 0, 0, 0, 0],\n",
       "       [0, 0, 0, 0, 0],\n",
       "       [0, 0, 0, 0, 0],\n",
       "       [0, 0, 0, 0, 0],\n",
       "       [0, 0, 0, 0, 0]])"
      ]
     },
     "execution_count": 17,
     "metadata": {},
     "output_type": "execute_result"
    }
   ],
   "source": [
    "np.zeros((5,5),dtype=int)"
   ]
  },
  {
   "cell_type": "markdown",
   "metadata": {},
   "source": [
    "Operations\n",
    "- arithmatic\n",
    "- statistical\n",
    "- trignometric\n",
    "- logical\n",
    "- slicing\n",
    "- filtering\n",
    "- sorting"
   ]
  },
  {
   "cell_type": "code",
   "execution_count": 18,
   "metadata": {},
   "outputs": [
    {
     "name": "stdout",
     "output_type": "stream",
     "text": [
      "[[15 15 16]\n",
      " [ 3  2 14]]\n",
      "[[ 1 23]\n",
      " [ 9 23]\n",
      " [ 1 13]]\n"
     ]
    }
   ],
   "source": [
    "x = np.random.randint(1,25,(2,3))\n",
    "y = np.random.randint(1,25,(3,2))\n",
    "print(x)\n",
    "print(y)"
   ]
  },
  {
   "cell_type": "code",
   "execution_count": 19,
   "metadata": {},
   "outputs": [
    {
     "data": {
      "text/plain": [
       "array([[ 1,  9,  1],\n",
       "       [23, 23, 13]])"
      ]
     },
     "execution_count": 19,
     "metadata": {},
     "output_type": "execute_result"
    }
   ],
   "source": [
    "y.T"
   ]
  },
  {
   "cell_type": "code",
   "execution_count": 20,
   "metadata": {},
   "outputs": [
    {
     "name": "stdout",
     "output_type": "stream",
     "text": [
      "x+y transposed\n",
      "[[16 24 17]\n",
      " [26 25 27]]\n",
      "x transposed + y\n",
      "[[16 26]\n",
      " [24 25]\n",
      " [17 27]]\n"
     ]
    }
   ],
   "source": [
    "print(\"x+y transposed\")\n",
    "print(x+y.T)\n",
    "print(\"x transposed + y\")\n",
    "print(x.T+y)"
   ]
  },
  {
   "cell_type": "code",
   "execution_count": 21,
   "metadata": {},
   "outputs": [
    {
     "name": "stdout",
     "output_type": "stream",
     "text": [
      "matrix multiplication elementwise\n",
      "[[ 15 135  16]\n",
      " [ 69  46 182]]\n",
      "matrix multiplication\n",
      "[[166 898]\n",
      " [ 35 297]]\n"
     ]
    }
   ],
   "source": [
    "print(\"matrix multiplication elementwise\")\n",
    "print(x*y.T)\n",
    "print(\"matrix multiplication\")\n",
    "print(x@y)"
   ]
  },
  {
   "cell_type": "code",
   "execution_count": 22,
   "metadata": {},
   "outputs": [
    {
     "data": {
      "text/plain": [
       "array([[15, 15, 16, 15, 15, 16, 15, 15, 16, 15, 15, 16, 15, 15, 16],\n",
       "       [ 3,  2, 14,  3,  2, 14,  3,  2, 14,  3,  2, 14,  3,  2, 14]])"
      ]
     },
     "execution_count": 22,
     "metadata": {},
     "output_type": "execute_result"
    }
   ],
   "source": [
    "np.hstack((x,x,x,x,x))"
   ]
  },
  {
   "cell_type": "code",
   "execution_count": 23,
   "metadata": {},
   "outputs": [
    {
     "data": {
      "text/plain": [
       "array([[15, 15, 16],\n",
       "       [ 3,  2, 14],\n",
       "       [15, 15, 16],\n",
       "       [ 3,  2, 14],\n",
       "       [ 1,  9,  1],\n",
       "       [23, 23, 13]])"
      ]
     },
     "execution_count": 23,
     "metadata": {},
     "output_type": "execute_result"
    }
   ],
   "source": [
    "np.vstack((x,x,y.T))"
   ]
  },
  {
   "cell_type": "code",
   "execution_count": 24,
   "metadata": {},
   "outputs": [
    {
     "name": "stdout",
     "output_type": "stream",
     "text": [
      "[[15 15 16]\n",
      " [ 3  2 14]]\n",
      "sum of all elements of x: 65\n",
      "sum of all elements row wise: [46 19]\n",
      "sum of all elements col wise: [18 17 30]\n",
      "average of all elements: 10.833333333333334\n",
      "average of all elements: 14.5\n",
      "min of all elements: 2\n",
      "max of all elements: 16\n",
      "std of all elements: 5.927806414592913\n",
      "variance of all elements: 35.138888888888886\n",
      "any item is non-zero: True\n",
      "all item are non-zero: True\n"
     ]
    }
   ],
   "source": [
    "print(x)\n",
    "print(\"sum of all elements of x:\",x.sum())\n",
    "print(\"sum of all elements row wise:\",x.sum(axis=1))\n",
    "print(\"sum of all elements col wise:\",x.sum(axis=0))\n",
    "print(\"average of all elements:\",x.mean())\n",
    "print(\"average of all elements:\",np.median(x))\n",
    "print(\"min of all elements:\",x.min())\n",
    "print(\"max of all elements:\",x.max())\n",
    "print(\"std of all elements:\",x.std())\n",
    "print(\"variance of all elements:\",x.var())\n",
    "print(\"any item is non-zero:\",x.any())\n",
    "print(\"all item are non-zero:\",x.all())"
   ]
  },
  {
   "cell_type": "code",
   "execution_count": 25,
   "metadata": {},
   "outputs": [
    {
     "name": "stdout",
     "output_type": "stream",
     "text": [
      "3.141592653589793\n",
      "nan\n",
      "inf\n",
      "2.718281828459045\n"
     ]
    }
   ],
   "source": [
    "print(np.pi)\n",
    "print(np.nan)\n",
    "print(np.inf)\n",
    "print(np.e)"
   ]
  },
  {
   "cell_type": "code",
   "execution_count": 26,
   "metadata": {},
   "outputs": [
    {
     "data": {
      "text/plain": [
       "array([[15, 15, 16],\n",
       "       [ 3,  2, 14]])"
      ]
     },
     "execution_count": 26,
     "metadata": {},
     "output_type": "execute_result"
    }
   ],
   "source": [
    "x"
   ]
  },
  {
   "cell_type": "code",
   "execution_count": 27,
   "metadata": {},
   "outputs": [
    {
     "name": "stdout",
     "output_type": "stream",
     "text": [
      "[[ 0.6503  0.6503 -0.2879]\n",
      " [ 0.1411  0.9093  0.9906]]\n",
      "[[-0.7597 -0.7597 -0.9577]\n",
      " [-0.99   -0.4161  0.1367]]\n",
      "[[-0.856  -0.856   0.3006]\n",
      " [-0.1425 -2.185   7.2446]]\n"
     ]
    }
   ],
   "source": [
    "print(np.sin(x))\n",
    "print(np.cos(x))\n",
    "print(np.tan(x))"
   ]
  },
  {
   "cell_type": "markdown",
   "metadata": {},
   "source": [
    "Boolean filter"
   ]
  },
  {
   "cell_type": "code",
   "execution_count": 29,
   "metadata": {},
   "outputs": [
    {
     "data": {
      "text/plain": [
       "array([15, 15, 16, 14])"
      ]
     },
     "execution_count": 29,
     "metadata": {},
     "output_type": "execute_result"
    }
   ],
   "source": [
    "x[x > 5]"
   ]
  },
  {
   "cell_type": "code",
   "execution_count": 48,
   "metadata": {},
   "outputs": [
    {
     "data": {
      "text/plain": [
       "array([[ 1,  2,  0,  1, -2],\n",
       "       [ 1, -1,  2, -1,  2],\n",
       "       [-3,  1,  1,  2,  1],\n",
       "       [ 1,  0,  0, -3, -1],\n",
       "       [-1, -1,  1,  1, -2]])"
      ]
     },
     "execution_count": 48,
     "metadata": {},
     "output_type": "execute_result"
    }
   ],
   "source": [
    "x = np.random.randint(-3,3, (5,5))\n",
    "x"
   ]
  },
  {
   "cell_type": "code",
   "execution_count": 49,
   "metadata": {},
   "outputs": [
    {
     "data": {
      "text/plain": [
       "array([ 1,  0,  1,  1, -1, -1,  1,  1,  1,  1,  0,  0, -1, -1, -1,  1,  1])"
      ]
     },
     "execution_count": 49,
     "metadata": {},
     "output_type": "execute_result"
    }
   ],
   "source": [
    "x[(x>-2)&(x<2)]\n",
    "#x[(x>-2)|(x<1)] for or"
   ]
  },
  {
   "cell_type": "markdown",
   "metadata": {},
   "source": [
    "### indexing and slicing"
   ]
  },
  {
   "cell_type": "code",
   "execution_count": 50,
   "metadata": {},
   "outputs": [
    {
     "data": {
      "text/plain": [
       "1"
      ]
     },
     "execution_count": 50,
     "metadata": {},
     "output_type": "execute_result"
    }
   ],
   "source": [
    "x[0,0]"
   ]
  },
  {
   "cell_type": "code",
   "execution_count": 51,
   "metadata": {},
   "outputs": [
    {
     "name": "stdout",
     "output_type": "stream",
     "text": [
      "[ 1  2  0  1 -2]\n",
      "[-1 -1  1  1 -2]\n"
     ]
    }
   ],
   "source": [
    "print(x[0]) # first row \n",
    "print(x[-1]) # last row"
   ]
  },
  {
   "cell_type": "markdown",
   "metadata": {},
   "source": [
    "- syntax for slicing in 1d:`[start:stop:step]`\n",
    "- syntax for slicing in 2d:`[rstart:rstop:rstep , cstart:cstop:cstep]`"
   ]
  },
  {
   "cell_type": "code",
   "execution_count": 55,
   "metadata": {},
   "outputs": [
    {
     "name": "stdout",
     "output_type": "stream",
     "text": [
      "[1 1 2 1]\n",
      "[1 2 0]\n"
     ]
    }
   ],
   "source": [
    "print(x[2,-4:]) # index row last four elements\n",
    "print(x[0,:3]) # first row three elements"
   ]
  },
  {
   "cell_type": "code",
   "execution_count": 56,
   "metadata": {},
   "outputs": [
    {
     "name": "stdout",
     "output_type": "stream",
     "text": [
      "[[-1 -1  1  1 -2]]\n"
     ]
    }
   ],
   "source": [
    "print(x[-1:]) # last row"
   ]
  },
  {
   "cell_type": "code",
   "execution_count": 63,
   "metadata": {},
   "outputs": [
    {
     "name": "stdout",
     "output_type": "stream",
     "text": [
      "[ 1  1 -3  1 -1]\n",
      "[-2  2  1 -1 -2]\n",
      "[[ 1  2  0]\n",
      " [ 1 -1  2]\n",
      " [-3  1  1]\n",
      " [ 1  0  0]\n",
      " [-1 -1  1]]\n",
      "[[ 2  1]\n",
      " [-1 -1]\n",
      " [ 1  2]\n",
      " [ 0 -3]\n",
      " [-1  1]]\n",
      "[[ 0 -2  2  1]\n",
      " [ 2  2 -1 -1]\n",
      " [ 1  1  1  2]\n",
      " [ 0 -1  0 -3]\n",
      " [ 1 -2 -1  1]]\n"
     ]
    }
   ],
   "source": [
    "print(x[:,0]) # first column\n",
    "print(x[:,-1]) # last column\n",
    "print(x[:,:-2]) # first three columns\n",
    "print(x[:,[1,3]]) # first index and third index column\n",
    "print(x[:,[2,4,1,3]]) # 2,4,1,3 columns"
   ]
  },
  {
   "cell_type": "markdown",
   "metadata": {},
   "source": [
    "### sorting"
   ]
  },
  {
   "cell_type": "code",
   "execution_count": 68,
   "metadata": {},
   "outputs": [
    {
     "data": {
      "text/plain": [
       "array([[29, 43, 63],\n",
       "       [73, 76, 41],\n",
       "       [83, 17, 42],\n",
       "       [98, 42, 31],\n",
       "       [ 4, 49, 33],\n",
       "       [ 7, 65, 81]])"
      ]
     },
     "execution_count": 68,
     "metadata": {},
     "output_type": "execute_result"
    }
   ],
   "source": [
    "y = np.random.randint(1,100,(6,3))\n",
    "y"
   ]
  },
  {
   "cell_type": "code",
   "execution_count": 71,
   "metadata": {},
   "outputs": [
    {
     "data": {
      "text/plain": [
       "array([[ 4, 17, 31],\n",
       "       [ 7, 33, 42],\n",
       "       [29, 41, 43],\n",
       "       [42, 49, 73],\n",
       "       [63, 65, 83],\n",
       "       [76, 81, 98]])"
      ]
     },
     "execution_count": 71,
     "metadata": {},
     "output_type": "execute_result"
    }
   ],
   "source": [
    "y.sort(axis=0) # sort by column\n",
    "y"
   ]
  },
  {
   "cell_type": "code",
   "execution_count": 72,
   "metadata": {},
   "outputs": [
    {
     "data": {
      "text/plain": [
       "array([[ 4, 17, 31],\n",
       "       [ 7, 33, 42],\n",
       "       [29, 41, 43],\n",
       "       [42, 49, 73],\n",
       "       [63, 65, 83],\n",
       "       [76, 81, 98]])"
      ]
     },
     "execution_count": 72,
     "metadata": {},
     "output_type": "execute_result"
    }
   ],
   "source": [
    "y.sort(axis=1) # sort by row\n",
    "y"
   ]
  },
  {
   "cell_type": "code",
   "execution_count": 75,
   "metadata": {},
   "outputs": [
    {
     "data": {
      "text/plain": [
       "array([ 4,  7, 17, 29, 31, 33, 41, 42, 42, 43, 49, 63, 65, 73, 76, 81, 83,\n",
       "       98])"
      ]
     },
     "execution_count": 75,
     "metadata": {},
     "output_type": "execute_result"
    }
   ],
   "source": [
    "y = y.flatten()\n",
    "y.sort()\n",
    "y"
   ]
  },
  {
   "cell_type": "code",
   "execution_count": 77,
   "metadata": {},
   "outputs": [
    {
     "data": {
      "text/plain": [
       "2"
      ]
     },
     "execution_count": 77,
     "metadata": {},
     "output_type": "execute_result"
    }
   ],
   "source": [
    "x.max()"
   ]
  },
  {
   "cell_type": "code",
   "execution_count": 79,
   "metadata": {},
   "outputs": [
    {
     "data": {
      "text/plain": [
       "21"
      ]
     },
     "execution_count": 79,
     "metadata": {},
     "output_type": "execute_result"
    }
   ],
   "source": [
    "x.argmax() # returns index of max elemnet"
   ]
  },
  {
   "cell_type": "code",
   "execution_count": 80,
   "metadata": {},
   "outputs": [
    {
     "data": {
      "text/plain": [
       "0"
      ]
     },
     "execution_count": 80,
     "metadata": {},
     "output_type": "execute_result"
    }
   ],
   "source": [
    "x.argmin() # returns index of min element"
   ]
  },
  {
   "cell_type": "code",
   "execution_count": null,
   "metadata": {},
   "outputs": [],
   "source": []
  }
 ],
 "metadata": {
  "kernelspec": {
   "display_name": "base",
   "language": "python",
   "name": "python3"
  },
  "language_info": {
   "codemirror_mode": {
    "name": "ipython",
    "version": 3
   },
   "file_extension": ".py",
   "mimetype": "text/x-python",
   "name": "python",
   "nbconvert_exporter": "python",
   "pygments_lexer": "ipython3",
   "version": "3.11.4"
  }
 },
 "nbformat": 4,
 "nbformat_minor": 2
}
