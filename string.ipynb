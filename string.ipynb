{
 "cells": [
  {
   "cell_type": "markdown",
   "metadata": {},
   "source": [
    "- indexing\n",
    "- slicing\n",
    "- methods\n",
    "- operations"
   ]
  },
  {
   "cell_type": "code",
   "execution_count": 1,
   "metadata": {},
   "outputs": [],
   "source": [
    "name = \"Krishna\""
   ]
  },
  {
   "cell_type": "code",
   "execution_count": 2,
   "metadata": {},
   "outputs": [
    {
     "name": "stdout",
     "output_type": "stream",
     "text": [
      "n\n",
      "h\n"
     ]
    }
   ],
   "source": [
    "print(name[5])\n",
    "print(name[-3])"
   ]
  },
  {
   "cell_type": "code",
   "execution_count": 3,
   "metadata": {},
   "outputs": [
    {
     "name": "stdout",
     "output_type": "stream",
     "text": [
      "h i\n"
     ]
    }
   ],
   "source": [
    "print(name[4],name[-5])"
   ]
  },
  {
   "cell_type": "code",
   "execution_count": 15,
   "metadata": {},
   "outputs": [
    {
     "name": "stdout",
     "output_type": "stream",
     "text": [
      "Vijay\n",
      "Vijay\n",
      "Vijay\n",
      "Deenanath\n",
      "Deenanath Chauhan\n",
      "Chauhan\n",
      "han\n",
      "Deenanath\n",
      "Deenanath\n",
      "htananeeD\n",
      "nahuahC htananeeD yajiV\n",
      "VjyDeaahCahn\n",
      "ia ennt hua\n"
     ]
    }
   ],
   "source": [
    "name = \"Vijay Deenanath Chauhan\"\n",
    "print(name[0]+name[1]+name[2]+name[3]+name[4])\n",
    "print(name[0:5])\n",
    "print(name[:5])#start from 0 and go till 5\n",
    "print(name[6:15])\n",
    "print(name[6:])#start from 6 and go till end\n",
    "print(name[-7:])\n",
    "print(name[-3:])\n",
    "print(name[6:-8])\n",
    "print(name[6:6+9])\n",
    "print(name[-9:5:-1])#reverse step\n",
    "print(name[::-1])#reverse\n",
    "print(name[::2])#alternate even indexing\n",
    "print(name[1::2])#alternate odd indexing"
   ]
  },
  {
   "cell_type": "markdown",
   "metadata": {},
   "source": [
    "name = \"William Shakespeare\" slice the following words\n",
    "\n",
    "- William\n",
    "- Shake\n",
    "- pear\n",
    "- spear\n",
    "- liam\n",
    "- are"
   ]
  },
  {
   "cell_type": "code",
   "execution_count": 25,
   "metadata": {},
   "outputs": [
    {
     "name": "stdout",
     "output_type": "stream",
     "text": [
      "William\n",
      "Shake\n",
      "pear\n",
      "spear\n",
      "liam\n",
      "are\n"
     ]
    }
   ],
   "source": [
    "name = \"William Shakespeare\"\n",
    "print(name[:7])\n",
    "print(name[8:13])\n",
    "print(name[-5:-1])\n",
    "print(name[-6:-1])\n",
    "print(name[3:7])\n",
    "print(name[-3:])"
   ]
  },
  {
   "cell_type": "markdown",
   "metadata": {},
   "source": [
    "### Methods in string\n",
    "    - formatting\n",
    "        - upper()\n",
    "        - lower()\n",
    "        - capitilize()\n",
    "    - validation\n",
    "        - isupper()\n",
    "        - islower()\n",
    "        - endswith()\n",
    "    - utility\n",
    "        - replace()\n",
    "        - find()\n",
    "        - count()"
   ]
  },
  {
   "cell_type": "code",
   "execution_count": 26,
   "metadata": {},
   "outputs": [
    {
     "data": {
      "text/plain": [
       "'WILLIAM SHAKESPEARE'"
      ]
     },
     "execution_count": 26,
     "metadata": {},
     "output_type": "execute_result"
    }
   ],
   "source": [
    "name.upper()"
   ]
  },
  {
   "cell_type": "code",
   "execution_count": 27,
   "metadata": {},
   "outputs": [
    {
     "name": "stdout",
     "output_type": "stream",
     "text": [
      "William Shakespeare\n",
      "WILLIAM SHAKESPEARE\n"
     ]
    }
   ],
   "source": [
    "nameU = name.upper()\n",
    "print(name)\n",
    "print(nameU)"
   ]
  },
  {
   "cell_type": "code",
   "execution_count": 28,
   "metadata": {},
   "outputs": [
    {
     "name": "stdout",
     "output_type": "stream",
     "text": [
      "william shakespeare\n",
      "William shakespeare\n",
      "William Shakespeare\n",
      "wILLIAM sHAKESPEARE\n",
      "william shakespeare\n"
     ]
    }
   ],
   "source": [
    "print(name.lower())\n",
    "print(name.capitalize())\n",
    "print(name.title())\n",
    "print(name.swapcase())\n",
    "print(name.casefold())#same as lower"
   ]
  },
  {
   "cell_type": "code",
   "execution_count": 30,
   "metadata": {},
   "outputs": [
    {
     "name": "stdout",
     "output_type": "stream",
     "text": [
      "10 * 5.21 = 52.1\n",
      "10 * 5.21 = 52.1\n"
     ]
    }
   ],
   "source": [
    "x = 10\n",
    "y = 5.21\n",
    "z = x * y\n",
    "print(\"{} * {} = {}\".format(x,y,z))\n",
    "print(f\"{x} * {y} = {z}\")"
   ]
  },
  {
   "cell_type": "code",
   "execution_count": 39,
   "metadata": {},
   "outputs": [
    {
     "name": "stdout",
     "output_type": "stream",
     "text": [
      "You entered apple\n",
      "upper: False\n",
      "lower: True\n",
      "title: False\n",
      "alphabets: True\n",
      "alphabets+number: True\n",
      "numbers: False\n",
      "whitespaces: False\n",
      "ASCII: True\n"
     ]
    }
   ],
   "source": [
    "a = input('Enter any value:')\n",
    "print(f\"You entered {a}\")\n",
    "print(f\"upper: {a.isupper()}\")\n",
    "print(f\"lower: {a.islower()}\")\n",
    "print(f\"title: {a.istitle()}\")\n",
    "print(f\"alphabets: {a.isalpha()}\")\n",
    "print(f\"alphabets+number: {a.isalnum()}\")\n",
    "print(f\"numbers: {a.isnumeric()}\")\n",
    "print(f\"whitespaces: {a.isspace()}\")\n",
    "print(f\"ASCII: {a.isascii()}\")"
   ]
  },
  {
   "cell_type": "code",
   "execution_count": 41,
   "metadata": {},
   "outputs": [
    {
     "name": "stdout",
     "output_type": "stream",
     "text": [
      "Very good\n"
     ]
    }
   ],
   "source": [
    "num = input(\"enter a number:\")\n",
    "if num.isnumeric():\n",
    "    num = int(num)\n",
    "    print(\"Very good\")\n",
    "else:\n",
    "    print(\"enter number only\")"
   ]
  },
  {
   "cell_type": "code",
   "execution_count": 44,
   "metadata": {},
   "outputs": [
    {
     "name": "stdout",
     "output_type": "stream",
     "text": [
      "True\n",
      "False\n",
      "False\n",
      "False\n",
      "False\n",
      "True\n",
      "False\n"
     ]
    }
   ],
   "source": [
    "x = \"hello world\"\n",
    "print(x.startswith('he'))\n",
    "print(x.startswith('the'))\n",
    "print(x.startswith(' he'))\n",
    "print(x.startswith('He'))\n",
    "print(x.endswith('dlr'))\n",
    "print(x.endswith('world'))\n",
    "print(x.endswith('World'))"
   ]
  },
  {
   "cell_type": "code",
   "execution_count": 45,
   "metadata": {},
   "outputs": [
    {
     "name": "stdout",
     "output_type": "stream",
     "text": [
      "song.mp3\n",
      "song2.mp3\n",
      "not mp3\n",
      "song3.mp3\n",
      "not mp3\n"
     ]
    }
   ],
   "source": [
    "files = ['song.mp3','song2.mp3','thumb.png','song3.mp3','song3.ini']\n",
    "for x in files:\n",
    "    if x.endswith('mp3'):\n",
    "        print(x)\n",
    "    else:\n",
    "        print('not mp3')\n"
   ]
  },
  {
   "cell_type": "code",
   "execution_count": null,
   "metadata": {},
   "outputs": [],
   "source": []
  }
 ],
 "metadata": {
  "kernelspec": {
   "display_name": "base",
   "language": "python",
   "name": "python3"
  },
  "language_info": {
   "codemirror_mode": {
    "name": "ipython",
    "version": 3
   },
   "file_extension": ".py",
   "mimetype": "text/x-python",
   "name": "python",
   "nbconvert_exporter": "python",
   "pygments_lexer": "ipython3",
   "version": "3.11.4"
  }
 },
 "nbformat": 4,
 "nbformat_minor": 2
}
