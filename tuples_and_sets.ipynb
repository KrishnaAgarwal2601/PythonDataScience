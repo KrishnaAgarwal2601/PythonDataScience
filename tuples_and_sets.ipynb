{
 "cells": [
  {
   "cell_type": "markdown",
   "metadata": {},
   "source": [
    "# Tuple\n",
    "Python handles multiple values as tuples\n",
    "- create\n",
    "- tuple packing and unpacking"
   ]
  },
  {
   "cell_type": "code",
   "execution_count": 1,
   "metadata": {},
   "outputs": [
    {
     "name": "stdout",
     "output_type": "stream",
     "text": [
      "(1, 2, 3)\n",
      "(1, 5, 7)\n"
     ]
    }
   ],
   "source": [
    "x = (1,2,3) #tuple\n",
    "y = 1,5,7 #tuple\n",
    "print(x)\n",
    "print(y)"
   ]
  },
  {
   "cell_type": "code",
   "execution_count": 2,
   "metadata": {},
   "outputs": [
    {
     "name": "stdout",
     "output_type": "stream",
     "text": [
      "(0, 't')\n",
      "(1, 'u')\n",
      "(2, 'p')\n",
      "(3, 'l')\n",
      "(4, 'e')\n"
     ]
    }
   ],
   "source": [
    "word = 'tuple'\n",
    "for i in enumerate(word):\n",
    "    print(i)"
   ]
  },
  {
   "cell_type": "code",
   "execution_count": 4,
   "metadata": {},
   "outputs": [
    {
     "name": "stdout",
     "output_type": "stream",
     "text": [
      "5\n",
      "1\n",
      "7\n"
     ]
    }
   ],
   "source": [
    "x = (1,2,1,1,1,1,4,2,5,9,4,4,4)\n",
    "print(x.count(1))\n",
    "print(x.index(2)) # search for 2 and return the index \n",
    "print(x.index(2,2)) # search for 2,starting from index 2"
   ]
  },
  {
   "cell_type": "code",
   "execution_count": 6,
   "metadata": {},
   "outputs": [
    {
     "name": "stdout",
     "output_type": "stream",
     "text": [
      "Alpha Beta Gamma\n"
     ]
    }
   ],
   "source": [
    "data = ('Alpha','Beta','Gamma')\n",
    "a, b, c = data\n",
    "print(a,b,c)"
   ]
  },
  {
   "cell_type": "code",
   "execution_count": 7,
   "metadata": {},
   "outputs": [],
   "source": [
    "data = ('Alpha','Beta','Gamma','Delta','Epsilon')"
   ]
  },
  {
   "cell_type": "code",
   "execution_count": 10,
   "metadata": {},
   "outputs": [
    {
     "name": "stdout",
     "output_type": "stream",
     "text": [
      "Alpha\n",
      "['Beta', 'Gamma', 'Delta', 'Epsilon']\n",
      "['Alpha', 'Beta', 'Gamma', 'Delta']\n",
      "Epsilon\n",
      "Alpha ['Beta', 'Gamma', 'Delta'] Epsilon\n"
     ]
    }
   ],
   "source": [
    "# take first value in a variable and put the rest in second variable \n",
    "i, *j = data\n",
    "print(i)\n",
    "print(j)\n",
    "*x, y = data\n",
    "print(x)\n",
    "print(y)\n",
    "a,*b,c = data\n",
    "print(a,b,c)"
   ]
  },
  {
   "cell_type": "markdown",
   "metadata": {},
   "source": [
    "# Set\n",
    "- create\n",
    "- methods\n",
    "- set operations"
   ]
  },
  {
   "cell_type": "code",
   "execution_count": 13,
   "metadata": {},
   "outputs": [
    {
     "name": "stdout",
     "output_type": "stream",
     "text": [
      "<class 'tuple'> (1,)\n"
     ]
    }
   ],
   "source": [
    "a = (1,) #single element tuple, Comma is important\n",
    "print(type(a),a)"
   ]
  },
  {
   "cell_type": "code",
   "execution_count": null,
   "metadata": {},
   "outputs": [],
   "source": []
  }
 ],
 "metadata": {
  "kernelspec": {
   "display_name": "base",
   "language": "python",
   "name": "python3"
  },
  "language_info": {
   "codemirror_mode": {
    "name": "ipython",
    "version": 3
   },
   "file_extension": ".py",
   "mimetype": "text/x-python",
   "name": "python",
   "nbconvert_exporter": "python",
   "pygments_lexer": "ipython3",
   "version": "3.11.4"
  }
 },
 "nbformat": 4,
 "nbformat_minor": 2
}
