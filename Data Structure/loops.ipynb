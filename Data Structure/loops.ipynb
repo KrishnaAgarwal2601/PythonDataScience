{
 "cells": [
  {
   "cell_type": "markdown",
   "metadata": {},
   "source": [
    "Loops\n",
    "\n",
    "#### for\n",
    "- step based loop\n",
    "- enumeration\n",
    "- traversing iterables\n",
    "\n",
    "#### while\n",
    "- condition based loop\n",
    "\n"
   ]
  },
  {
   "cell_type": "code",
   "execution_count": 1,
   "metadata": {},
   "outputs": [
    {
     "data": {
      "text/plain": [
       "range(1, 100)"
      ]
     },
     "execution_count": 1,
     "metadata": {},
     "output_type": "execute_result"
    }
   ],
   "source": [
    "range(1,100)"
   ]
  },
  {
   "cell_type": "markdown",
   "metadata": {},
   "source": [
    "```\n",
    "for var in iterables:\n",
    "    statements\n",
    "```"
   ]
  },
  {
   "cell_type": "code",
   "execution_count": 3,
   "metadata": {},
   "outputs": [
    {
     "name": "stdout",
     "output_type": "stream",
     "text": [
      "0 1 2 3 4 5 6 7 8 9 "
     ]
    }
   ],
   "source": [
    "for item in range(10):\n",
    "    print(item,end=' ')"
   ]
  },
  {
   "cell_type": "code",
   "execution_count": 4,
   "metadata": {},
   "outputs": [
    {
     "name": "stdout",
     "output_type": "stream",
     "text": [
      "-10 -9 -8 -7 -6 -5 -4 -3 -2 -1 0 1 2 3 4 5 6 7 8 9 "
     ]
    }
   ],
   "source": [
    "for i in range(-10,10):\n",
    "    print(i,end=' ')"
   ]
  },
  {
   "cell_type": "code",
   "execution_count": 6,
   "metadata": {},
   "outputs": [
    {
     "name": "stdout",
     "output_type": "stream",
     "text": [
      "-10 -8 -6 -4 -2 0 2 4 6 8 10 "
     ]
    }
   ],
   "source": [
    "for i in range(-10,11,2):\n",
    "    print(i,end=' ')"
   ]
  },
  {
   "cell_type": "code",
   "execution_count": 7,
   "metadata": {},
   "outputs": [
    {
     "name": "stdout",
     "output_type": "stream",
     "text": [
      "20 19 18 17 16 15 14 13 12 11 10 9 8 7 6 "
     ]
    }
   ],
   "source": [
    "for i in range(20,5,-1):\n",
    "    print(i,end=' ')"
   ]
  },
  {
   "cell_type": "code",
   "execution_count": 8,
   "metadata": {},
   "outputs": [
    {
     "name": "stdout",
     "output_type": "stream",
     "text": [
      "2 4 6 8 10 12 14 16 18 20 22 24 26 28 30 32 34 36 38 40 42 44 46 48 50 52 54 56 58 60 62 64 66 68 70 72 74 76 78 80 82 84 86 88 90 92 94 96 98 "
     ]
    }
   ],
   "source": [
    "for i in range(2,100,2):\n",
    "    print(i,end=' ')"
   ]
  },
  {
   "cell_type": "code",
   "execution_count": 9,
   "metadata": {},
   "outputs": [
    {
     "name": "stdout",
     "output_type": "stream",
     "text": [
      "hello\n",
      "hello\n",
      "hello\n",
      "hello\n",
      "hello\n"
     ]
    }
   ],
   "source": [
    "for _ in range(5):\n",
    "    print(\"hello\")"
   ]
  },
  {
   "cell_type": "code",
   "execution_count": 10,
   "metadata": {},
   "outputs": [],
   "source": [
    "name = \"Krishna\"\n",
    "words = ['hi','hello','aloha','hola']#list\n",
    "colors = ('red','green','blue')#tuple\n",
    "numbers = {2,4,5,7,10,14,15,20,25}#set"
   ]
  },
  {
   "cell_type": "code",
   "execution_count": 13,
   "metadata": {},
   "outputs": [
    {
     "name": "stdout",
     "output_type": "stream",
     "text": [
      "Krishna\n",
      "hi hello aloha hola \n",
      "red green blue \n",
      "2 4 5 7 10 14 15 20 25 "
     ]
    }
   ],
   "source": [
    "for char in name:\n",
    "    print(char,end='')\n",
    "print()\n",
    "for word in words:\n",
    "    print(word,end=' ')\n",
    "print()\n",
    "for c in colors:\n",
    "    print(c,end=' ')\n",
    "print()\n",
    "for i in numbers:\n",
    "    print(i,end=' ')"
   ]
  },
  {
   "cell_type": "code",
   "execution_count": 18,
   "metadata": {},
   "outputs": [
    {
     "name": "stdout",
     "output_type": "stream",
     "text": [
      "0 Harsh\n",
      "1 Aryan\n",
      "2 Krishna\n",
      "3 Ayush\n",
      "4 Ashutosh\n"
     ]
    }
   ],
   "source": [
    "names = ['Harsh','Aryan','Krishna','Ayush','Ashutosh']\n",
    "for idx, val in enumerate(names):\n",
    "    print(idx, val)"
   ]
  },
  {
   "cell_type": "code",
   "execution_count": 19,
   "metadata": {},
   "outputs": [
    {
     "name": "stdout",
     "output_type": "stream",
     "text": [
      "Harsh Shukla\n",
      "Aryan Bhatnagar\n",
      "Krishna Agarwal\n",
      "Ayush Pandey\n",
      "Ashutosh Srivastava\n"
     ]
    }
   ],
   "source": [
    "surnames = ['Shukla','Bhatnagar','Agarwal','Pandey','Srivastava']\n",
    "for fname,lname in zip(names, surnames):\n",
    "    print(fname,lname)"
   ]
  },
  {
   "cell_type": "code",
   "execution_count": 23,
   "metadata": {},
   "outputs": [
    {
     "name": "stdout",
     "output_type": "stream",
     "text": [
      "1 2 3 5 7 "
     ]
    }
   ],
   "source": [
    "x = [1,2,3,4,4,5,6,6,7]\n",
    "for i in x:\n",
    "    if i == 4 or i == 6:\n",
    "        continue\n",
    "    print(i, end=' ')"
   ]
  },
  {
   "cell_type": "code",
   "execution_count": 24,
   "metadata": {},
   "outputs": [
    {
     "name": "stdout",
     "output_type": "stream",
     "text": [
      "1 2 3 "
     ]
    }
   ],
   "source": [
    "for i in x:\n",
    "    if i == 4:\n",
    "        break\n",
    "    print(i, end=' ')"
   ]
  },
  {
   "cell_type": "code",
   "execution_count": 25,
   "metadata": {},
   "outputs": [],
   "source": [
    "x = []\n",
    "for i in x:\n",
    "    print(i,end=' ')"
   ]
  },
  {
   "cell_type": "code",
   "execution_count": 30,
   "metadata": {},
   "outputs": [
    {
     "name": "stdout",
     "output_type": "stream",
     "text": [
      "Hello Krishna\n",
      "Hello Aryan\n",
      "Hello Ritik\n",
      "Hello Abcd\n",
      "Hello cdjn\n",
      "Well done\n"
     ]
    }
   ],
   "source": [
    "# for-else\n",
    "for i in range(5):\n",
    "    name = input('Enter name of person:')\n",
    "    if name:\n",
    "        print(f'Hello {name}')\n",
    "    else:\n",
    "        break\n",
    "else:\n",
    "    print('Well done')"
   ]
  },
  {
   "cell_type": "code",
   "execution_count": 32,
   "metadata": {},
   "outputs": [
    {
     "name": "stdout",
     "output_type": "stream",
     "text": [
      "0 10 20 30 40 50 60 70 80 90 "
     ]
    }
   ],
   "source": [
    "n = 0\n",
    "while n < 100:\n",
    "    print(n, end=' ')\n",
    "    n += 10"
   ]
  },
  {
   "cell_type": "code",
   "execution_count": 36,
   "metadata": {},
   "outputs": [
    {
     "name": "stdout",
     "output_type": "stream",
     "text": [
      "455\n",
      "666666666\n",
      "Entered a number less than 100\n"
     ]
    }
   ],
   "source": [
    "# infinite loop controlled by user\n",
    "while True:\n",
    "    num = int(input('enter a number greater than 100:'))\n",
    "    if num > 100:\n",
    "        print(f'{num}')\n",
    "    else:\n",
    "        print('Entered a number less than 100')\n",
    "        break"
   ]
  },
  {
   "cell_type": "code",
   "execution_count": null,
   "metadata": {},
   "outputs": [],
   "source": []
  },
  {
   "cell_type": "code",
   "execution_count": null,
   "metadata": {},
   "outputs": [],
   "source": []
  }
 ],
 "metadata": {
  "kernelspec": {
   "display_name": "base",
   "language": "python",
   "name": "python3"
  },
  "language_info": {
   "codemirror_mode": {
    "name": "ipython",
    "version": 3
   },
   "file_extension": ".py",
   "mimetype": "text/x-python",
   "name": "python",
   "nbconvert_exporter": "python",
   "pygments_lexer": "ipython3",
   "version": "3.11.4"
  }
 },
 "nbformat": 4,
 "nbformat_minor": 2
}
