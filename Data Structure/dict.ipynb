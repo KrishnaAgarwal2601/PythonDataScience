{
 "cells": [
  {
   "cell_type": "markdown",
   "metadata": {},
   "source": [
    "# dictionary\n",
    "- create\n",
    "- access\n",
    "- change\n",
    "- methods"
   ]
  },
  {
   "cell_type": "code",
   "execution_count": 2,
   "metadata": {},
   "outputs": [
    {
     "name": "stdout",
     "output_type": "stream",
     "text": [
      "{'temp': 33, 'humidity': 100, 'weather': 'sunny', 'wind': 6, 'location': 'lucknow'}\n"
     ]
    }
   ],
   "source": [
    "# data = {33,100,'sunny',6,'lucknow'}\n",
    "data = {\n",
    "    'temp':33,'humidity':100,'weather':'sunny','wind':6,'location':'lucknow'\n",
    "}\n",
    "print(data)"
   ]
  },
  {
   "cell_type": "code",
   "execution_count": 4,
   "metadata": {},
   "outputs": [
    {
     "data": {
      "text/plain": [
       "{'names': ['Krishna', 'Aryan', 'Kushagra'],\n",
       " 'academic_lvl': ['Btech', 'Bsc', 'Bcom']}"
      ]
     },
     "execution_count": 4,
     "metadata": {},
     "output_type": "execute_result"
    }
   ],
   "source": [
    "Students = {\n",
    "    'names':['Krishna','Aryan','Kushagra'],\n",
    "    'academic_lvl':['Btech','Bsc','Bcom']\n",
    "}\n",
    "Students"
   ]
  },
  {
   "cell_type": "code",
   "execution_count": 8,
   "metadata": {},
   "outputs": [
    {
     "data": {
      "text/plain": [
       "{'fruits': [{'name': 'apple', 'qty': 10},\n",
       "  {'name': 'banana', 'qty': 50},\n",
       "  {'name': 'cherry', 'qty': 20}],\n",
       " 'vegetables': [{'name': 'potato', 'qty': 100},\n",
       "  {'name': 'tomato', 'qty': 50},\n",
       "  {'name0': 'onion', 'qty': 50}]}"
      ]
     },
     "execution_count": 8,
     "metadata": {},
     "output_type": "execute_result"
    }
   ],
   "source": [
    "#nested dictionary\n",
    "products = {\n",
    "    'fruits':[\n",
    "        {'name':\"apple\", 'qty':10},\n",
    "        {'name':\"banana\",'qty':50},\n",
    "        {'name':\"cherry\",'qty':20},\n",
    "        ],\n",
    "    'vegetables':[\n",
    "        {'name':\"potato\",'qty':100},\n",
    "        {'name':\"tomato\",'qty':50},\n",
    "        {'name0':\"onion\",'qty':50},\n",
    "    ]\n",
    "}\n",
    "products"
   ]
  },
  {
   "cell_type": "code",
   "execution_count": 9,
   "metadata": {},
   "outputs": [
    {
     "data": {
      "text/plain": [
       "'sunny'"
      ]
     },
     "execution_count": 9,
     "metadata": {},
     "output_type": "execute_result"
    }
   ],
   "source": [
    "data['weather']"
   ]
  },
  {
   "cell_type": "code",
   "execution_count": 10,
   "metadata": {},
   "outputs": [
    {
     "data": {
      "text/plain": [
       "[{'name': 'potato', 'qty': 100},\n",
       " {'name': 'tomato', 'qty': 50},\n",
       " {'name0': 'onion', 'qty': 50}]"
      ]
     },
     "execution_count": 10,
     "metadata": {},
     "output_type": "execute_result"
    }
   ],
   "source": [
    "products['vegetables']"
   ]
  },
  {
   "cell_type": "code",
   "execution_count": 11,
   "metadata": {},
   "outputs": [
    {
     "data": {
      "text/plain": [
       "{'name': 'tomato', 'qty': 50}"
      ]
     },
     "execution_count": 11,
     "metadata": {},
     "output_type": "execute_result"
    }
   ],
   "source": [
    "products['vegetables'][1]"
   ]
  },
  {
   "cell_type": "code",
   "execution_count": 12,
   "metadata": {},
   "outputs": [
    {
     "data": {
      "text/plain": [
       "{'temp': 20,\n",
       " 'humidity': 100,\n",
       " 'weather': 'Thunderstorm',\n",
       " 'wind': 6,\n",
       " 'location': 'lucknow'}"
      ]
     },
     "execution_count": 12,
     "metadata": {},
     "output_type": "execute_result"
    }
   ],
   "source": [
    "# change value of existing key\n",
    "data['temp'] = 20\n",
    "data['weather'] = 'Thunderstorm'\n",
    "data"
   ]
  },
  {
   "cell_type": "code",
   "execution_count": 13,
   "metadata": {},
   "outputs": [
    {
     "data": {
      "text/plain": [
       "{'temp': 20,\n",
       " 'humidity': 100,\n",
       " 'weather': 'accuweather.com',\n",
       " 'wind': 6,\n",
       " 'location': 'lucknow'}"
      ]
     },
     "execution_count": 13,
     "metadata": {},
     "output_type": "execute_result"
    }
   ],
   "source": [
    "# dict[new key] = new value (adds new key-value pair)\n",
    "data['weather'] = 'accuweather.com'\n",
    "data"
   ]
  },
  {
   "cell_type": "code",
   "execution_count": 15,
   "metadata": {},
   "outputs": [
    {
     "data": {
      "text/plain": [
       "{'names': ['Krishna', 'Aryan', 'Kushagra', 'Rohan', 'Rohan'],\n",
       " 'academic_lvl': ['Btech', 'Bsc', 'Bcom']}"
      ]
     },
     "execution_count": 15,
     "metadata": {},
     "output_type": "execute_result"
    }
   ],
   "source": [
    "Students['names'].append('Rohan')\n",
    "Students"
   ]
  },
  {
   "cell_type": "code",
   "execution_count": 17,
   "metadata": {},
   "outputs": [
    {
     "data": {
      "text/plain": [
       "{'fruits': [{'name': 'apple', 'qty': 10},\n",
       "  {'name': 'banana', 'qty': 50},\n",
       "  {'name': 'cherry', 'qty': 20},\n",
       "  {'name': 'orange', 'qty': 10}],\n",
       " 'vegetables': [{'name': 'potato', 'qty': 100},\n",
       "  {'name': 'tomato', 'qty': 50},\n",
       "  {'name0': 'onion', 'qty': 50}]}"
      ]
     },
     "execution_count": 17,
     "metadata": {},
     "output_type": "execute_result"
    }
   ],
   "source": [
    "orange = {'name':'orange','qty':10}\n",
    "products['fruits'].append(orange)\n",
    "products"
   ]
  },
  {
   "cell_type": "code",
   "execution_count": 18,
   "metadata": {},
   "outputs": [
    {
     "data": {
      "text/plain": [
       "{'fruits': [{'name': 'apple', 'qty': 10},\n",
       "  {'name': 'banana', 'qty': 50},\n",
       "  {'name': 'cherry', 'qty': 20},\n",
       "  {'name': 'orange', 'qty': 10}],\n",
       " 'vegetables': [{'name': 'potato', 'qty': 100},\n",
       "  {'name': 'tomato', 'qty': 50},\n",
       "  {'name0': 'onion', 'qty': 50}],\n",
       " 'cereals': 'no cereals available'}"
      ]
     },
     "execution_count": 18,
     "metadata": {},
     "output_type": "execute_result"
    }
   ],
   "source": [
    "products['cereals'] = 'no cereals available'\n",
    "products"
   ]
  },
  {
   "cell_type": "markdown",
   "metadata": {},
   "source": [
    "- methods\n",
    "    - keys()\n",
    "    - values()\n",
    "    - items()\n",
    "    - get()\n",
    "    - update()\n",
    "    - pop()"
   ]
  },
  {
   "cell_type": "code",
   "execution_count": 19,
   "metadata": {},
   "outputs": [
    {
     "data": {
      "text/plain": [
       "['temp', 'humidity', 'weather', 'wind', 'location']"
      ]
     },
     "execution_count": 19,
     "metadata": {},
     "output_type": "execute_result"
    }
   ],
   "source": [
    "list(data.keys())"
   ]
  },
  {
   "cell_type": "code",
   "execution_count": 20,
   "metadata": {},
   "outputs": [
    {
     "data": {
      "text/plain": [
       "[20, 100, 'accuweather.com', 6, 'lucknow']"
      ]
     },
     "execution_count": 20,
     "metadata": {},
     "output_type": "execute_result"
    }
   ],
   "source": [
    "list(data.values())"
   ]
  },
  {
   "cell_type": "code",
   "execution_count": 21,
   "metadata": {},
   "outputs": [
    {
     "data": {
      "text/plain": [
       "[('temp', 20),\n",
       " ('humidity', 100),\n",
       " ('weather', 'accuweather.com'),\n",
       " ('wind', 6),\n",
       " ('location', 'lucknow')]"
      ]
     },
     "execution_count": 21,
     "metadata": {},
     "output_type": "execute_result"
    }
   ],
   "source": [
    "list(data.items())"
   ]
  },
  {
   "cell_type": "code",
   "execution_count": 22,
   "metadata": {},
   "outputs": [
    {
     "name": "stdout",
     "output_type": "stream",
     "text": [
      "temp\n",
      "humidity\n",
      "weather\n",
      "wind\n",
      "location\n"
     ]
    }
   ],
   "source": [
    "# simple for loop gives only keys from a dictionary\n",
    "for i in data:\n",
    "    print(i)"
   ]
  },
  {
   "cell_type": "code",
   "execution_count": 25,
   "metadata": {},
   "outputs": [
    {
     "name": "stdout",
     "output_type": "stream",
     "text": [
      "temp : 20\n",
      "humidity : 100\n",
      "weather : accuweather.com\n",
      "wind : 6\n",
      "location : lucknow\n"
     ]
    }
   ],
   "source": [
    "# to extract key-values pair from a dictionary, use.items()\n",
    "for k, v in data.items():\n",
    "    print(k,':',v)"
   ]
  },
  {
   "cell_type": "code",
   "execution_count": 26,
   "metadata": {},
   "outputs": [
    {
     "name": "stdout",
     "output_type": "stream",
     "text": [
      "temp 20\n",
      "humidity 100\n",
      "weather accuweather.com\n",
      "wind 6\n",
      "location lucknow\n"
     ]
    }
   ],
   "source": [
    "for key in data:\n",
    "    print(key, data[key])"
   ]
  },
  {
   "cell_type": "code",
   "execution_count": 27,
   "metadata": {},
   "outputs": [],
   "source": [
    "x = {\n",
    "    'apple':'pie',\n",
    "    'orange':'jam',\n",
    "    'pineapple':'juice'\n",
    "}\n",
    "y = {\n",
    "    'potato':'fries',\n",
    "    'tomato':'ketchup'\n",
    "}"
   ]
  },
  {
   "cell_type": "code",
   "execution_count": 28,
   "metadata": {},
   "outputs": [
    {
     "name": "stdout",
     "output_type": "stream",
     "text": [
      "{'apple': 'pie', 'orange': 'jam', 'pineapple': 'juice', 'potato': 'fries', 'tomato': 'ketchup'}\n",
      "{'potato': 'fries', 'tomato': 'ketchup'}\n"
     ]
    }
   ],
   "source": [
    "x.update(y)\n",
    "print(x)\n",
    "print(y)"
   ]
  },
  {
   "cell_type": "code",
   "execution_count": 29,
   "metadata": {},
   "outputs": [
    {
     "name": "stdout",
     "output_type": "stream",
     "text": [
      "pie\n",
      "None\n",
      "Not found\n",
      "pie\n"
     ]
    }
   ],
   "source": [
    "print(x.get('apple')) # valid key->valid value\n",
    "print(x.get('apples')) # invalid key -> none\n",
    "print(x.get('apples','Not found')) # invalid key -> default value\n",
    "print(x.get('apple','Not found')) # valid key -> valid value"
   ]
  },
  {
   "cell_type": "code",
   "execution_count": 30,
   "metadata": {},
   "outputs": [
    {
     "name": "stdout",
     "output_type": "stream",
     "text": [
      "pie\n"
     ]
    }
   ],
   "source": [
    "inp = input('Enter Items name:')\n",
    "print(x.get(inp,'Not found'))"
   ]
  },
  {
   "cell_type": "code",
   "execution_count": null,
   "metadata": {},
   "outputs": [],
   "source": []
  }
 ],
 "metadata": {
  "kernelspec": {
   "display_name": "base",
   "language": "python",
   "name": "python3"
  },
  "language_info": {
   "codemirror_mode": {
    "name": "ipython",
    "version": 3
   },
   "file_extension": ".py",
   "mimetype": "text/x-python",
   "name": "python",
   "nbconvert_exporter": "python",
   "pygments_lexer": "ipython3",
   "version": "3.11.4"
  }
 },
 "nbformat": 4,
 "nbformat_minor": 2
}
