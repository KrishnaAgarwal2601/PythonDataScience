{
 "cells": [
  {
   "cell_type": "markdown",
   "metadata": {},
   "source": [
    "conditions\n",
    "- if condition\n",
    "- if else condition\n",
    "- if elif condition\n",
    "- nested condition\n",
    "- match cases\n",
    "\n",
    "conditional operators and logical operators\n",
    "\n",
    "`<,><=,>=,==,!=`\n",
    "\n",
    "`and or not`"
   ]
  },
  {
   "cell_type": "code",
   "execution_count": 2,
   "metadata": {},
   "outputs": [
    {
     "name": "stdout",
     "output_type": "stream",
     "text": [
      "yes\n"
     ]
    }
   ],
   "source": [
    "x = 10\n",
    "if x > 5:\n",
    "    print('yes')"
   ]
  },
  {
   "cell_type": "code",
   "execution_count": 1,
   "metadata": {},
   "outputs": [
    {
     "name": "stdout",
     "output_type": "stream",
     "text": [
      "yes\n",
      "hello\n",
      "end\n"
     ]
    }
   ],
   "source": [
    "x = 10\n",
    "if x > 6:\n",
    "    print('yes')\n",
    "    print('hello')\n",
    "print('end')    "
   ]
  },
  {
   "cell_type": "code",
   "execution_count": 5,
   "metadata": {},
   "outputs": [
    {
     "name": "stdout",
     "output_type": "stream",
     "text": [
      "Simple interest:1200.0\n"
     ]
    }
   ],
   "source": [
    "p = int(input('enter the value of principle'))\n",
    "t =int(input('enter the time'))\n",
    "r =int(input('enter the rate'))\n",
    "si =  p*r*t/100\n",
    "print (f'Simple interest:{si}')"
   ]
  },
  {
   "cell_type": "code",
   "execution_count": 6,
   "metadata": {},
   "outputs": [
    {
     "name": "stdout",
     "output_type": "stream",
     "text": [
      "Simple interest:800.0\n"
     ]
    }
   ],
   "source": [
    "p = int(input('Enter the value of principle'))\n",
    "t = int(input('Enter the value of time'))\n",
    "if p >= 15000:\n",
    "    r = 3\n",
    "else:\n",
    "    r = 4\n",
    "si = p * r * t /100\n",
    "print (f'Simple interest:{si}')"
   ]
  },
  {
   "cell_type": "code",
   "execution_count": 8,
   "metadata": {},
   "outputs": [
    {
     "name": "stdout",
     "output_type": "stream",
     "text": [
      "x is greater than 50\n",
      "x is greater than -150\n"
     ]
    }
   ],
   "source": [
    "x = 150\n",
    "if x > 50:\n",
    "    print ('x is greater than 50')\n",
    "if x < -50:\n",
    "    print ('x is less than - 50')\n",
    "if x > -150:\n",
    "    print('x is greater than -150')"
   ]
  },
  {
   "cell_type": "code",
   "execution_count": 9,
   "metadata": {},
   "outputs": [
    {
     "name": "stdout",
     "output_type": "stream",
     "text": [
      "a+b is greater than 5\n"
     ]
    }
   ],
   "source": [
    "# if elif (related conditions) (conditional ladders)\n",
    "a,b = 4,5\n",
    "if a+b>10:\n",
    "    print('a+b is greater than 10')\n",
    "elif a+b>5:\n",
    "    print('a+b is greater than 5')\n",
    "elif a+b>4:\n",
    "    print('a+b is greater than 4')"
   ]
  },
  {
   "cell_type": "markdown",
   "metadata": {},
   "source": [
    "wap to calculate total salary of employee based on following conditions\n",
    "- BS is > 25000, hra = 30% of BS, da = 95% of BS\n",
    "- BS is > 20000, hra = 25% of BS, da = 90% of BS\n",
    "- BS is > 15000, hra = 20% of BS, da = 85% of BS"
   ]
  },
  {
   "cell_type": "code",
   "execution_count": 14,
   "metadata": {},
   "outputs": [
    {
     "name": "stdout",
     "output_type": "stream",
     "text": [
      "Total Salary:146250.0\n"
     ]
    }
   ],
   "source": [
    "BS = int(input('Enter the value of basic salary of employee'))\n",
    "if BS > 25000:\n",
    "    hra = .3 * BS\n",
    "    da = .95 * BS\n",
    "elif BS > 20000:\n",
    "    hra = .25 * BS\n",
    "    da = .9 * BS\n",
    "elif BS > 15000:\n",
    "    hra = .2 * BS\n",
    "    da = .85 * BS\n",
    "else:\n",
    "    hra,da = 0,0\n",
    "TS = BS + hra + da\n",
    "print (f'Total Salary:{TS}')"
   ]
  },
  {
   "cell_type": "code",
   "execution_count": 17,
   "metadata": {},
   "outputs": [
    {
     "name": "stdout",
     "output_type": "stream",
     "text": [
      "you are not allowed\n"
     ]
    }
   ],
   "source": [
    "# nested if\n",
    "name = input('Enter your name:')\n",
    "match (name):\n",
    "    case \"ajay\":\n",
    "        print ('Welcome mr.ajay')\n",
    "    case \"vijay\" | \"anuj\":\n",
    "        print('you are caterers')\n",
    "    case \"rahul\":\n",
    "        print ('you are manager')\n",
    "    case \"aryan\":\n",
    "        print('you are not allowed')\n",
    "    case _:\n",
    "        print('I do not know you')"
   ]
  },
  {
   "cell_type": "markdown",
   "metadata": {},
   "source": [
    "```\n",
    "if condition:\n",
    "    if condition:\n",
    "        if condition:\n",
    "```"
   ]
  },
  {
   "cell_type": "code",
   "execution_count": 18,
   "metadata": {},
   "outputs": [
    {
     "name": "stdout",
     "output_type": "stream",
     "text": [
      "Welcome Krishna\n"
     ]
    }
   ],
   "source": [
    "username = input('enter your username:')\n",
    "password = input('enter your password:')\n",
    "\n",
    "if len(username)>0:\n",
    "    if len(password)>0:\n",
    "        if username == 'Krishna':\n",
    "            if password == 'admin':\n",
    "                print('Welcome Krishna')\n",
    "            else:\n",
    "                print('Invalid password')\n",
    "        else:\n",
    "            print('Invalid username')\n",
    "    else:\n",
    "        print('Password is required')\n",
    "else:\n",
    "    print('Username is required')\n"
   ]
  },
  {
   "cell_type": "markdown",
   "metadata": {},
   "source": [
    "ternary conditional operator\n",
    "\n",
    "`<expr1> if <comdition> else <expr2>`"
   ]
  },
  {
   "cell_type": "code",
   "execution_count": 19,
   "metadata": {},
   "outputs": [
    {
     "name": "stdout",
     "output_type": "stream",
     "text": [
      "name ok\n"
     ]
    }
   ],
   "source": [
    "name = input('enter your name:')\n",
    "print('name too big' if len(name) > 10 else 'name ok')"
   ]
  },
  {
   "cell_type": "code",
   "execution_count": 20,
   "metadata": {},
   "outputs": [
    {
     "data": {
      "text/plain": [
       "'even'"
      ]
     },
     "execution_count": 20,
     "metadata": {},
     "output_type": "execute_result"
    }
   ],
   "source": [
    "x = 100\n",
    "\"even\" if x%2==0 else \"odd\""
   ]
  },
  {
   "cell_type": "code",
   "execution_count": null,
   "metadata": {},
   "outputs": [],
   "source": []
  }
 ],
 "metadata": {
  "kernelspec": {
   "display_name": "base",
   "language": "python",
   "name": "python3"
  },
  "language_info": {
   "codemirror_mode": {
    "name": "ipython",
    "version": 3
   },
   "file_extension": ".py",
   "mimetype": "text/x-python",
   "name": "python",
   "nbconvert_exporter": "python",
   "pygments_lexer": "ipython3",
   "version": "3.11.4"
  },
  "orig_nbformat": 4
 },
 "nbformat": 4,
 "nbformat_minor": 2
}
