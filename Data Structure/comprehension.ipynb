{
 "cells": [
  {
   "cell_type": "markdown",
   "metadata": {},
   "source": [
    "# Comprehension in Python\n",
    "**single line code for generating an iterable from an existing iterables**\n",
    "- list comprehension\n",
    "- set comprehension\n",
    "- dict comprehension"
   ]
  },
  {
   "cell_type": "markdown",
   "metadata": {},
   "source": [
    "syntax 1:\n",
    "```\n",
    "new_iterable = [operation for item in existing_iterable]\n",
    "```\n",
    "syntax 2:\n",
    "```\n",
    "new_iterable = [operation for item in existing_iterable if condition]\n",
    "```"
   ]
  },
  {
   "cell_type": "code",
   "execution_count": 1,
   "metadata": {},
   "outputs": [
    {
     "name": "stdout",
     "output_type": "stream",
     "text": [
      "[1, 2, 3, 4]\n",
      "[1, 4, 9, 16]\n"
     ]
    }
   ],
   "source": [
    "a = [1,2,3,4]\n",
    "a2 =[]\n",
    "for i in a:\n",
    "    s = i**2\n",
    "    a2.append(s)\n",
    "print(a)\n",
    "print(a2)"
   ]
  },
  {
   "cell_type": "code",
   "execution_count": 5,
   "metadata": {},
   "outputs": [
    {
     "name": "stdout",
     "output_type": "stream",
     "text": [
      "[1, 4, 9, 16]\n"
     ]
    }
   ],
   "source": [
    "a2 = [i**2 for i in a]\n",
    "print(a2)"
   ]
  },
  {
   "cell_type": "code",
   "execution_count": 6,
   "metadata": {},
   "outputs": [
    {
     "name": "stdout",
     "output_type": "stream",
     "text": [
      "['alex', 'susan', 'tom', 'jerry']\n",
      "['al', 'su', 'to', 'je']\n"
     ]
    }
   ],
   "source": [
    "names = ['alex','susan','tom','jerry']\n",
    "shorts = []\n",
    "for name in names:\n",
    "    shorts.append(name[:2])\n",
    "print(names)\n",
    "print(shorts)"
   ]
  },
  {
   "cell_type": "code",
   "execution_count": 9,
   "metadata": {},
   "outputs": [
    {
     "name": "stdout",
     "output_type": "stream",
     "text": [
      "['al', 'su', 'to', 'je']\n"
     ]
    }
   ],
   "source": [
    "shorts = [name[:2] for name in names]\n",
    "print(shorts)"
   ]
  },
  {
   "cell_type": "code",
   "execution_count": 12,
   "metadata": {},
   "outputs": [
    {
     "name": "stdout",
     "output_type": "stream",
     "text": [
      "[12, 3, 45, 38, 90, 67]\n",
      "[2, -7, 35, 28, 80, 57]\n"
     ]
    }
   ],
   "source": [
    "numbers = [12,3,45,38,90,67]\n",
    "num = [i-10 for i in numbers]\n",
    "print(numbers)\n",
    "print(num)"
   ]
  },
  {
   "cell_type": "code",
   "execution_count": 14,
   "metadata": {},
   "outputs": [
    {
     "name": "stdout",
     "output_type": "stream",
     "text": [
      "[2, 28, 80]\n"
     ]
    }
   ],
   "source": [
    "evens = [n-10 for n in numbers if n%2==0]\n",
    "print(evens)"
   ]
  },
  {
   "cell_type": "code",
   "execution_count": 15,
   "metadata": {},
   "outputs": [
    {
     "name": "stdout",
     "output_type": "stream",
     "text": [
      "['raman', 'sita', 'gita', 'hari', 'rahul', 'sohan']\n",
      "['sita', 'gita', 'hari']\n"
     ]
    }
   ],
   "source": [
    "guests = ['raman','sita','gita','hari','rahul','sohan']\n",
    "guest_i = [name for name in guests if 'i' in name.lower()]\n",
    "print(guests)\n",
    "print(guest_i)"
   ]
  },
  {
   "cell_type": "code",
   "execution_count": 17,
   "metadata": {},
   "outputs": [
    {
     "name": "stdout",
     "output_type": "stream",
     "text": [
      "{1, 2, 3}\n",
      "{1, 4, 9}\n"
     ]
    }
   ],
   "source": [
    "x = {1,2,3}\n",
    "x2 = {i**2 for i in x}\n",
    "print(x)\n",
    "print(x2)"
   ]
  },
  {
   "cell_type": "code",
   "execution_count": 19,
   "metadata": {},
   "outputs": [
    {
     "name": "stdout",
     "output_type": "stream",
     "text": [
      "{'a': 'APPLE', 'b': 'BANANA', 'c': 'CHERRY'}\n"
     ]
    }
   ],
   "source": [
    "# dict comprehension\n",
    "x = {'a':'apple','b':'banana','c':'cherry'}\n",
    "x2 = {k:v.upper() for k,v in x.items()}\n",
    "print(x2)"
   ]
  },
  {
   "cell_type": "code",
   "execution_count": 21,
   "metadata": {},
   "outputs": [
    {
     "name": "stdout",
     "output_type": "stream",
     "text": [
      "{0: 13, 1: 27, 2: 6, 3: 82, 4: 9, 5: 7, 6: 3, 7: 16, 8: 26}\n"
     ]
    }
   ],
   "source": [
    "# list to dict\n",
    "x = [13,27,6,82,9,7,3,16,26]\n",
    "x_dict = {i:v for i,v in enumerate(x)}\n",
    "print(x_dict)"
   ]
  },
  {
   "cell_type": "code",
   "execution_count": 24,
   "metadata": {},
   "outputs": [
    {
     "name": "stdout",
     "output_type": "stream",
     "text": [
      "{'c': 13, 'e': 27, 'd': 6, 'i': 82, 'f': 9, 'g': 7, 'b': 3, 'h': 16, 'a': 26}\n"
     ]
    }
   ],
   "source": [
    "x = [13,27,6,82,9,7,3,16,26]\n",
    "y = {'a','b','c','d','e','f','g','h','i'}\n",
    "x_dict = {i2:i1 for i1,i2 in zip(x,y)}\n",
    "print(x_dict)"
   ]
  },
  {
   "cell_type": "code",
   "execution_count": 26,
   "metadata": {},
   "outputs": [
    {
     "data": {
      "text/plain": [
       "[1, 4, 9]"
      ]
     },
     "execution_count": 26,
     "metadata": {},
     "output_type": "execute_result"
    }
   ],
   "source": [
    "x = (1,2,3)\n",
    "x2 = (i**2 for i in x)\n",
    "list(x2)"
   ]
  },
  {
   "cell_type": "code",
   "execution_count": null,
   "metadata": {},
   "outputs": [],
   "source": []
  }
 ],
 "metadata": {
  "kernelspec": {
   "display_name": "base",
   "language": "python",
   "name": "python3"
  },
  "language_info": {
   "codemirror_mode": {
    "name": "ipython",
    "version": 3
   },
   "file_extension": ".py",
   "mimetype": "text/x-python",
   "name": "python",
   "nbconvert_exporter": "python",
   "pygments_lexer": "ipython3",
   "version": "3.11.4"
  }
 },
 "nbformat": 4,
 "nbformat_minor": 2
}
