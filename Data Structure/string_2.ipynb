{
 "cells": [
  {
   "cell_type": "markdown",
   "metadata": {},
   "source": [
    "string operations:\n",
    "- find\n",
    "- replace\n",
    "- split\n",
    "- join\n",
    "- strip\n",
    "- count\n",
    "- removeprefix\n",
    "- removesuffix"
   ]
  },
  {
   "cell_type": "code",
   "execution_count": 1,
   "metadata": {},
   "outputs": [],
   "source": [
    "msg = \"a very normal message in a normal world\""
   ]
  },
  {
   "cell_type": "code",
   "execution_count": 3,
   "metadata": {},
   "outputs": [
    {
     "name": "stdout",
     "output_type": "stream",
     "text": [
      "14\n",
      "7\n",
      "27\n"
     ]
    }
   ],
   "source": [
    "print(msg.find('message'))\n",
    "print(msg.find('normal'))\n",
    "print(msg.rfind('normal'))"
   ]
  },
  {
   "cell_type": "code",
   "execution_count": 4,
   "metadata": {},
   "outputs": [
    {
     "name": "stdout",
     "output_type": "stream",
     "text": [
      "-1\n",
      "27\n"
     ]
    }
   ],
   "source": [
    "print(msg.find('mor'))\n",
    "print(msg.find('normal',8))"
   ]
  },
  {
   "cell_type": "code",
   "execution_count": 5,
   "metadata": {},
   "outputs": [
    {
     "name": "stdout",
     "output_type": "stream",
     "text": [
      "-1\n"
     ]
    }
   ],
   "source": [
    "print(msg.find('in', 0, 15))"
   ]
  },
  {
   "cell_type": "code",
   "execution_count": 7,
   "metadata": {},
   "outputs": [
    {
     "name": "stdout",
     "output_type": "stream",
     "text": [
      "present at 19\n"
     ]
    }
   ],
   "source": [
    "a = '''Write a program to calculate the average of a list of numbers using a for loop.'''\n",
    "if 'calc' in a:\n",
    "    print(f\"present at {a.find('calc')}\")"
   ]
  },
  {
   "cell_type": "code",
   "execution_count": 8,
   "metadata": {},
   "outputs": [
    {
     "data": {
      "text/plain": [
       "'a very urgent message in a urgent world'"
      ]
     },
     "execution_count": 8,
     "metadata": {},
     "output_type": "execute_result"
    }
   ],
   "source": [
    "msg.replace('normal','urgent')"
   ]
  },
  {
   "cell_type": "code",
   "execution_count": 9,
   "metadata": {},
   "outputs": [
    {
     "name": "stdout",
     "output_type": "stream",
     "text": [
      "a very urgent message in a normal world\n"
     ]
    }
   ],
   "source": [
    "print(msg.replace('normal','urgent',1))"
   ]
  },
  {
   "cell_type": "code",
   "execution_count": 11,
   "metadata": {},
   "outputs": [
    {
     "data": {
      "text/plain": [
       "'a very normal message in a urgent world'"
      ]
     },
     "execution_count": 11,
     "metadata": {},
     "output_type": "execute_result"
    }
   ],
   "source": [
    "msg[:15]+msg[15:].replace('normal','urgent')"
   ]
  },
  {
   "cell_type": "code",
   "execution_count": 13,
   "metadata": {},
   "outputs": [
    {
     "data": {
      "text/plain": [
       "'A Urgent Crowded Message In A Crowded City'"
      ]
     },
     "execution_count": 13,
     "metadata": {},
     "output_type": "execute_result"
    }
   ],
   "source": [
    "msg.replace('very','urgent',1).replace('world','city').replace('normal','crowded').title()"
   ]
  },
  {
   "cell_type": "code",
   "execution_count": 14,
   "metadata": {},
   "outputs": [
    {
     "data": {
      "text/plain": [
       "['a', 'very', 'normal', 'message', 'in', 'a', 'normal', 'world']"
      ]
     },
     "execution_count": 14,
     "metadata": {},
     "output_type": "execute_result"
    }
   ],
   "source": [
    "msg.split()"
   ]
  },
  {
   "cell_type": "code",
   "execution_count": 15,
   "metadata": {},
   "outputs": [
    {
     "data": {
      "text/plain": [
       "['a v', 'ry normal m', 'ssag', ' in a normal world']"
      ]
     },
     "execution_count": 15,
     "metadata": {},
     "output_type": "execute_result"
    }
   ],
   "source": [
    "msg.split('e')"
   ]
  },
  {
   "cell_type": "code",
   "execution_count": 16,
   "metadata": {},
   "outputs": [],
   "source": [
    "bmsg='''This is\n",
    "an example\n",
    "string with some,\n",
    "content in each\n",
    "line of the message'''"
   ]
  },
  {
   "cell_type": "code",
   "execution_count": 19,
   "metadata": {},
   "outputs": [
    {
     "name": "stdout",
     "output_type": "stream",
     "text": [
      "['This', 'is', 'an', 'example', 'string', 'with', 'some', 'content', 'in', 'each', 'line', 'of', 'the', 'message']\n",
      "['This is', 'an example', 'string with some', 'content in each', 'line of the message']\n",
      "['This is', 'an example', 'string with some', 'content in each', 'line of the message']\n",
      "['This is\\nan example\\nstring with some\\ncontent in each\\nline of the message']\n",
      "['This', 'is', 'an', 'example\\nstring with some\\ncontent in each\\nline of the message']\n"
     ]
    }
   ],
   "source": [
    "print(bmsg.split())\n",
    "print(bmsg.splitlines())\n",
    "print(bmsg.split('\\n'))\n",
    "print(bmsg.split(','))\n",
    "print(bmsg.split(maxsplit=3))\n"
   ]
  },
  {
   "cell_type": "code",
   "execution_count": 20,
   "metadata": {},
   "outputs": [],
   "source": [
    "path = [\"C:\",'users','acer','documents','secretfiles.txt']"
   ]
  },
  {
   "cell_type": "code",
   "execution_count": 26,
   "metadata": {},
   "outputs": [
    {
     "name": "stdout",
     "output_type": "stream",
     "text": [
      "C:_users_acer_documents_secretfiles.txt\n",
      "C:/users/acer/documents/secretfiles.txt\n",
      "C:\\users\\acer\\documents\\secretfiles.txt\n"
     ]
    },
    {
     "data": {
      "text/plain": [
       "'C:/users/acer/documents/secretfiles.txt'"
      ]
     },
     "execution_count": 26,
     "metadata": {},
     "output_type": "execute_result"
    }
   ],
   "source": [
    "print(\"_\".join(path))\n",
    "print(\"/\".join(path))\n",
    "print(\"\\\\\".join(path))\n",
    "gs = '/'\n",
    "gs.join(path)"
   ]
  },
  {
   "cell_type": "code",
   "execution_count": 28,
   "metadata": {},
   "outputs": [
    {
     "data": {
      "text/plain": [
       "'world normal a in message normal very a'"
      ]
     },
     "execution_count": 28,
     "metadata": {},
     "output_type": "execute_result"
    }
   ],
   "source": [
    "\" \".join(msg.split()[::-1])"
   ]
  },
  {
   "cell_type": "code",
   "execution_count": 31,
   "metadata": {},
   "outputs": [
    {
     "name": "stdout",
     "output_type": "stream",
     "text": [
      "5\n",
      "2\n",
      "0\n",
      "1\n",
      "1\n"
     ]
    }
   ],
   "source": [
    "print(msg.count('a'))\n",
    "print(msg.count('normal'))\n",
    "print(msg.count('hii'))\n",
    "print(msg.count('very normal'))\n",
    "print(msg.count('very norm'))"
   ]
  },
  {
   "cell_type": "code",
   "execution_count": 33,
   "metadata": {},
   "outputs": [
    {
     "name": "stdout",
     "output_type": "stream",
     "text": [
      "13\n",
      "11\n"
     ]
    }
   ],
   "source": [
    "kachra = \" hello world \"\n",
    "cleaned_s = kachra.strip()\n",
    "print(len(kachra))\n",
    "print(len(cleaned_s))"
   ]
  },
  {
   "cell_type": "code",
   "execution_count": 34,
   "metadata": {},
   "outputs": [
    {
     "name": "stdout",
     "output_type": "stream",
     "text": [
      "19\n",
      "my content here\n",
      "15\n"
     ]
    }
   ],
   "source": [
    "a = '''\n",
    "\n",
    "my content here\n",
    "\n",
    "'''\n",
    "print(len(a))\n",
    "print(a.strip())\n",
    "print(len(a.strip()))"
   ]
  },
  {
   "cell_type": "code",
   "execution_count": 35,
   "metadata": {},
   "outputs": [
    {
     "name": "stdout",
     "output_type": "stream",
     "text": [
      "content!!!!!\n",
      "!!!!!content\n",
      "content\n"
     ]
    }
   ],
   "source": [
    "world = '!!!!!content!!!!!'\n",
    "print(world.lstrip('!'))\n",
    "print(world.rstrip('!'))\n",
    "print(world.strip('!'))"
   ]
  },
  {
   "cell_type": "code",
   "execution_count": 36,
   "metadata": {},
   "outputs": [
    {
     "data": {
      "text/plain": [
       "' Suess'"
      ]
     },
     "execution_count": 36,
     "metadata": {},
     "output_type": "execute_result"
    }
   ],
   "source": [
    "name = \"Dr. Suess\"\n",
    "name.removeprefix('Dr.')"
   ]
  },
  {
   "cell_type": "code",
   "execution_count": 3,
   "metadata": {},
   "outputs": [
    {
     "name": "stdout",
     "output_type": "stream",
     "text": [
      "python\n"
     ]
    }
   ],
   "source": [
    "text = '%@p4y3t1h3o%n416'\n",
    "from string import punctuation,digits\n",
    "for i in punctuation+digits:\n",
    "    text= text.replace(i,'')\n",
    "print(text)"
   ]
  },
  {
   "cell_type": "code",
   "execution_count": null,
   "metadata": {},
   "outputs": [],
   "source": []
  }
 ],
 "metadata": {
  "kernelspec": {
   "display_name": "base",
   "language": "python",
   "name": "python3"
  },
  "language_info": {
   "codemirror_mode": {
    "name": "ipython",
    "version": 3
   },
   "file_extension": ".py",
   "mimetype": "text/x-python",
   "name": "python",
   "nbconvert_exporter": "python",
   "pygments_lexer": "ipython3",
   "version": "3.11.4"
  }
 },
 "nbformat": 4,
 "nbformat_minor": 2
}
