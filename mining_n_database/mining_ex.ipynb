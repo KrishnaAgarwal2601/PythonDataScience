{
 "cells": [
  {
   "cell_type": "code",
   "execution_count": 1,
   "metadata": {},
   "outputs": [],
   "source": [
    "from dputils.scrape import Scraper, Tag"
   ]
  },
  {
   "cell_type": "code",
   "execution_count": 10,
   "metadata": {},
   "outputs": [
    {
     "name": "stdout",
     "output_type": "stream",
     "text": [
      "Selecting a random User-Agent...\n",
      "Randomly picked browser: Safari\n",
      "Randomly picked operating system: Mac\n",
      "🌐🌐🌐🌐🌐🌐🌐🌐🌐🌐\n",
      "User agent:  {'User-Agent': 'Mozilla/5.0 (Macintosh; Intel Mac OS X 10_15_7) AppleWebKit/605.1.15 (KHTML, like Gecko) Version/14.1.2 Safari/605.1.15'}\n",
      "Cookies:  {'session-id': '', 'session-id-time': '', 'session-token': ''}\n",
      "url:  https://www.zyte.com/blog/\n",
      "🌐🌐🌐🌐🌐🌐🌐🌐🌐🌐\n"
     ]
    },
    {
     "data": {
      "text/plain": [
       "[{'article': 'Celebrating Ethics in Web Scraping With the EWDCI Certification',\n",
       "  'metainfo': ' Sanaea Daruwalla 4 mins',\n",
       "  'link': None},\n",
       " {'article': 'Simplify Your Web Scraping Project with Zyte API',\n",
       "  'metainfo': ' Daniel Cave 5 mins',\n",
       "  'link': None},\n",
       " {'article': 'Zyte API Aced the Proxyway Test of Web Unblocking APIs',\n",
       "  'metainfo': ' Iain Lennon 7 mins',\n",
       "  'link': None},\n",
       " {'article': 'Web Scraping Challenges & Their Cost-Efficient Solutions',\n",
       "  'metainfo': ' Eugenia Evseeva 4 min',\n",
       "  'link': None},\n",
       " {'article': 'What Is Product Intelligence and Why Your Business Needs It',\n",
       "  'metainfo': ' Eugenia Evseeva 4 min',\n",
       "  'link': None},\n",
       " {'article': 'How Zyte API takes care of the fundamental needs of your web scraping project!',\n",
       "  'metainfo': ' Neha Setia Nagpal 3 mins',\n",
       "  'link': None},\n",
       " {'article': \"Use cURL for web scraping: A Beginner's Guide\",\n",
       "  'metainfo': ' Felipe Boff Nunes 16 Mins',\n",
       "  'link': None},\n",
       " {'article': 'Static vs Rotating Proxies: A Comprehensive Guide',\n",
       "  'metainfo': ' Felipe Boff Nunes 10 Mins',\n",
       "  'link': None},\n",
       " {'article': 'The Art of Using Data to Make Decisions in Business',\n",
       "  'metainfo': ' Felipe Boff Nunes 15 Mins',\n",
       "  'link': None},\n",
       " {'article': 'Scrapy Cloud secrets: Hub Crawl Frontier and how to use it',\n",
       "  'metainfo': ' Julio Cesar Batista 6 Mins',\n",
       "  'link': None},\n",
       " {'article': 'How Web Scraping and Graph Databases Can Power Recommendation Engines',\n",
       "  'metainfo': ' Neha Setia Nagpal 11 Mins',\n",
       "  'link': None},\n",
       " {'article': 'How to Extract Data From HTML Table | Zyte',\n",
       "  'metainfo': ' Pawel Miech 5 Mins',\n",
       "  'link': None}]"
      ]
     },
     "execution_count": 10,
     "metadata": {},
     "output_type": "execute_result"
    }
   ],
   "source": [
    "url = 'https://www.zyte.com/blog/'\n",
    "target = Tag(cls='ResourcePage_grid__avGjs')\n",
    "item = Tag(cls='card')\n",
    "article = Tag(cls='z-text-blog-title')\n",
    "metainfo =Tag(cls='CardResource_info__g1t2c')\n",
    "link = Tag('a',output='href',cls='Button_btn_WCYUU')\n",
    "scr = Scraper(url)\n",
    "scr.get_repeating_page_data(target, item, article=article, metainfo=metainfo, link=link)"
   ]
  },
  {
   "cell_type": "code",
   "execution_count": null,
   "metadata": {},
   "outputs": [],
   "source": [
    "url = 'https://www.flipkart.com/search?q=ssd&page=2'\n",
    "target2 =Tag(cls='_1YokD2 _2GoDe3')\n",
    "item2 = Tag(cls='') "
   ]
  },
  {
   "cell_type": "markdown",
   "metadata": {},
   "source": [
    "### Database using sqlalchemy"
   ]
  },
  {
   "cell_type": "code",
   "execution_count": 13,
   "metadata": {},
   "outputs": [
    {
     "name": "stderr",
     "output_type": "stream",
     "text": [
      "C:\\Users\\acer\\AppData\\Local\\Temp\\ipykernel_12892\\696347971.py:7: MovedIn20Warning: The ``declarative_base()`` function is now available as sqlalchemy.orm.declarative_base(). (deprecated since: 2.0) (Background on SQLAlchemy 2.0 at: https://sqlalche.me/e/b8d9)\n",
      "  base = declarative_base()\n"
     ]
    }
   ],
   "source": [
    "from sqlalchemy import create_engine # database connection\n",
    "import datetime as dt\n",
    "from sqlalchemy.orm import sessionmaker # session management Open and close connection\n",
    "from sqlalchemy.ext.declarative import declarative_base # base class for declarative class definitions\n",
    "from sqlalchemy import Column, Integer, String, DateTime\n",
    "\n",
    "base = declarative_base()\n",
    "class Product(base):\n",
    "    __tablename__ = 'products'\n",
    "    id = Column(Integer, primary_key=True)\n",
    "    name = Column(String)\n",
    "    price = Column(String)\n",
    "    oprice = Column(String)\n",
    "    rating = Column(String)\n",
    "    created_on = Column(DateTime, default=dt.datetime.utcnow)\n",
    "\n",
    "    def __str__(self):\n",
    "        return f'{self.name}'\n",
    "\n",
    "db = 'crawler.db'\n",
    "engine = create_engine(f'sqlite:///{db}') # create database\n",
    "base.metadata.create_all(engine) # create tables on database"
   ]
  },
  {
   "cell_type": "code",
   "execution_count": null,
   "metadata": {},
   "outputs": [],
   "source": [
    "df.to_sql('products',engine,)"
   ]
  }
 ],
 "metadata": {
  "kernelspec": {
   "display_name": "base",
   "language": "python",
   "name": "python3"
  },
  "language_info": {
   "codemirror_mode": {
    "name": "ipython",
    "version": 3
   },
   "file_extension": ".py",
   "mimetype": "text/x-python",
   "name": "python",
   "nbconvert_exporter": "python",
   "pygments_lexer": "ipython3",
   "version": "3.11.4"
  }
 },
 "nbformat": 4,
 "nbformat_minor": 2
}
