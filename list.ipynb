{
 "cells": [
  {
   "cell_type": "markdown",
   "metadata": {},
   "source": [
    "  List                       Tuple                 Set                       Dict\n",
    "- ordered                  - ordered              - unordered               - ordered\n",
    "- indexed                  - indexed              - unindexed               - unindexed\n",
    "- mutable                  - immutable            - mutable                 - mutable\n",
    "- duplicate values         - duplicate values     - duplicate values        - duplicate values\n",
    "- values only              - values only          - values only             - key value only\n",
    "- [] list()                - () tuple()           - {} set()                - {} dict()"
   ]
  },
  {
   "cell_type": "markdown",
   "metadata": {},
   "source": [
    "# list\n",
    "- create\n",
    "- indexing and slicing\n",
    "- traversing\n",
    "- manipulate"
   ]
  },
  {
   "cell_type": "code",
   "execution_count": 1,
   "metadata": {},
   "outputs": [
    {
     "name": "stdout",
     "output_type": "stream",
     "text": [
      "[]\n"
     ]
    }
   ],
   "source": [
    "a = [] #empty list\n",
    "print(a)"
   ]
  },
  {
   "cell_type": "code",
   "execution_count": 3,
   "metadata": {},
   "outputs": [
    {
     "name": "stdout",
     "output_type": "stream",
     "text": [
      "[1, 2, 3]\n",
      "['alpha', 'beta', 'gamma']\n",
      "['arun', 100, 'varun', 150, 'tarun', 200]\n",
      "[[1, 2, 3], [2, 3, 4, 5]]\n",
      "[1, 2, 3]\n",
      "[[1, 2, 3], [1, 2, 3], [1, 2, 3], [1, 2, 3]]\n",
      "[2, 2, 2, 2, 2, 2, 2, 2, 2, 2]\n"
     ]
    }
   ],
   "source": [
    "b = [1,2,3] #number list\n",
    "c = ['alpha','beta','gamma'] #string list\n",
    "d = ['arun',100,'varun',150,'tarun',200] #mixed datatype\n",
    "e = [[1,2,3],[2,3,4,5]] #nested list\n",
    "f = [1,2,3]\n",
    "g = [f,f,f,f] #list of list\n",
    "h = [2]*10 #list multipliction\n",
    "print(b)\n",
    "print(c)\n",
    "print(d)\n",
    "print(e)\n",
    "print(f)\n",
    "print(g)\n",
    "print(h)"
   ]
  },
  {
   "cell_type": "code",
   "execution_count": 5,
   "metadata": {},
   "outputs": [
    {
     "name": "stdout",
     "output_type": "stream",
     "text": [
      "1\n",
      "3\n"
     ]
    }
   ],
   "source": [
    "print(b[0])\n",
    "print(b[2])"
   ]
  },
  {
   "cell_type": "code",
   "execution_count": 6,
   "metadata": {},
   "outputs": [
    {
     "name": "stdout",
     "output_type": "stream",
     "text": [
      "first three [5, 4, 1]\n",
      "last three [3, 6, 10]\n",
      "all content expect first 2 and last 2 [1, 64, 9, 3]\n",
      "reverse [1, 64, 9, 3]\n",
      "even indexed item [5, 1, 9, 6]\n",
      "odd indexed item [4, 64, 3, 10]\n"
     ]
    }
   ],
   "source": [
    "nums = [5,4,1,64,9,3,6,10]\n",
    "print('first three',nums[:3])\n",
    "print('last three',nums[-3:])\n",
    "print('all content expect first 2 and last 2',nums[2:-2])\n",
    "print('reverse',nums[2:-2])\n",
    "print('even indexed item',nums[::2])\n",
    "print('odd indexed item',nums[1::2])"
   ]
  },
  {
   "cell_type": "code",
   "execution_count": 9,
   "metadata": {},
   "outputs": [
    {
     "name": "stdout",
     "output_type": "stream",
     "text": [
      "[120, 4, 1, 64, 9, 3, 6, 20]\n"
     ]
    }
   ],
   "source": [
    "nums[0] = 120 #change values\n",
    "nums[-1] = 20\n",
    "print(nums)  "
   ]
  },
  {
   "cell_type": "code",
   "execution_count": 10,
   "metadata": {},
   "outputs": [
    {
     "name": "stdout",
     "output_type": "stream",
     "text": [
      "arun\n",
      "100\n",
      "varun\n",
      "150\n",
      "tarun\n",
      "200\n"
     ]
    }
   ],
   "source": [
    "for i in d:\n",
    "    print(i)"
   ]
  },
  {
   "cell_type": "code",
   "execution_count": 11,
   "metadata": {},
   "outputs": [
    {
     "name": "stdout",
     "output_type": "stream",
     "text": [
      "arun is string\n",
      "100 is integer\n",
      "varun is string\n",
      "150 is integer\n",
      "tarun is string\n",
      "200 is integer\n"
     ]
    }
   ],
   "source": [
    "for i in d:\n",
    "    if isinstance(i,str):\n",
    "        print(i,'is string')\n",
    "    elif isinstance(i,int):\n",
    "        print(i,'is integer')\n",
    "    else:\n",
    "        print(i,'is unknown')"
   ]
  },
  {
   "cell_type": "markdown",
   "metadata": {},
   "source": [
    "list methods\n",
    "- adding\n",
    "    - append()\n",
    "    - insert()\n",
    "    - extend()\n",
    "- remove\n",
    "    - remove() - find the value and remove\n",
    "    - pop() - find the index and extract\n",
    "    - clear()\n",
    "- manipulation\n",
    "    - count()\n",
    "    - sort()\n",
    "    - reverse()\n",
    "    - copy()\n",
    "    - index()"
   ]
  },
  {
   "cell_type": "code",
   "execution_count": 12,
   "metadata": {},
   "outputs": [
    {
     "name": "stdout",
     "output_type": "stream",
     "text": [
      "['red', 'orange', 'blue']\n"
     ]
    }
   ],
   "source": [
    "colors = []\n",
    "colors.append('red')\n",
    "colors.append('orange')\n",
    "colors.append('blue')\n",
    "print(colors)"
   ]
  },
  {
   "cell_type": "code",
   "execution_count": 15,
   "metadata": {},
   "outputs": [
    {
     "name": "stdout",
     "output_type": "stream",
     "text": [
      "[[1, 2, 3, 4], [2, 3, 4, 5], '15', 15, 15]\n"
     ]
    }
   ],
   "source": [
    "e.append(15)\n",
    "e[0].append(4)\n",
    "print(e)"
   ]
  },
  {
   "cell_type": "code",
   "execution_count": 17,
   "metadata": {},
   "outputs": [
    {
     "name": "stdout",
     "output_type": "stream",
     "text": [
      "['red', 'orange', 'green', 'blue']\n"
     ]
    }
   ],
   "source": [
    "colors.insert(2,'green')\n",
    "print(colors)"
   ]
  },
  {
   "cell_type": "code",
   "execution_count": 18,
   "metadata": {},
   "outputs": [
    {
     "name": "stdout",
     "output_type": "stream",
     "text": [
      "[5, 6, 2, 8, 7, 4, 3, 1, 10, 12, 14]\n"
     ]
    }
   ],
   "source": [
    "x = [5,6,2,8,7,4,3,1]\n",
    "y = [10,12,14]\n",
    "x.extend(y)\n",
    "print(x)"
   ]
  },
  {
   "cell_type": "code",
   "execution_count": 19,
   "metadata": {},
   "outputs": [
    {
     "name": "stdout",
     "output_type": "stream",
     "text": [
      "[1, 2, 3, 4, 5, 6, 7, 8, 10, 12, 14]\n"
     ]
    }
   ],
   "source": [
    "x.sort()\n",
    "print(x)"
   ]
  },
  {
   "cell_type": "code",
   "execution_count": 20,
   "metadata": {},
   "outputs": [
    {
     "data": {
      "text/plain": [
       "['red', 'orange', 'blue']"
      ]
     },
     "execution_count": 20,
     "metadata": {},
     "output_type": "execute_result"
    }
   ],
   "source": [
    "colors.remove('green')\n",
    "colors"
   ]
  },
  {
   "cell_type": "code",
   "execution_count": 21,
   "metadata": {},
   "outputs": [
    {
     "data": {
      "text/plain": [
       "'blue'"
      ]
     },
     "execution_count": 21,
     "metadata": {},
     "output_type": "execute_result"
    }
   ],
   "source": [
    "colors.pop(2)"
   ]
  },
  {
   "cell_type": "code",
   "execution_count": 22,
   "metadata": {},
   "outputs": [
    {
     "data": {
      "text/plain": [
       "['red', 'orange']"
      ]
     },
     "execution_count": 22,
     "metadata": {},
     "output_type": "execute_result"
    }
   ],
   "source": [
    "colors"
   ]
  },
  {
   "cell_type": "code",
   "execution_count": 25,
   "metadata": {},
   "outputs": [
    {
     "data": {
      "text/plain": [
       "10"
      ]
     },
     "execution_count": 25,
     "metadata": {},
     "output_type": "execute_result"
    }
   ],
   "source": [
    "x.pop() #remove last element"
   ]
  },
  {
   "cell_type": "code",
   "execution_count": 26,
   "metadata": {},
   "outputs": [
    {
     "data": {
      "text/plain": [
       "[1, 2, 3, 4, 5, 6, 7, 8]"
      ]
     },
     "execution_count": 26,
     "metadata": {},
     "output_type": "execute_result"
    }
   ],
   "source": [
    "x"
   ]
  },
  {
   "cell_type": "code",
   "execution_count": 29,
   "metadata": {},
   "outputs": [
    {
     "name": "stdout",
     "output_type": "stream",
     "text": [
      "5\n",
      "2\n",
      "1\n"
     ]
    }
   ],
   "source": [
    "k = [1,5,1,4,2,6,9,8,9,1,1,1]\n",
    "print(k.count(1))\n",
    "print(k.count(9))\n",
    "print(k.count(2))"
   ]
  },
  {
   "cell_type": "code",
   "execution_count": 31,
   "metadata": {},
   "outputs": [
    {
     "name": "stdout",
     "output_type": "stream",
     "text": [
      "[[0, 10], [1, 2], [2, 4], [3, 1]]\n",
      "[[3, 1], [1, 2], [2, 4], [0, 10]]\n"
     ]
    }
   ],
   "source": [
    "p = [[1,2],[2,4],[3,1],[0,10]]\n",
    "p.sort()\n",
    "print(p)\n",
    "p.sort(key=lambda i:i[1])\n",
    "print(p)\n"
   ]
  },
  {
   "cell_type": "code",
   "execution_count": 36,
   "metadata": {},
   "outputs": [
    {
     "name": "stdout",
     "output_type": "stream",
     "text": [
      "[1, 1, 1, 1, 1, 2, 4, 5, 6, 8, 9, 9]\n",
      "[9, 9, 8, 6, 5, 4, 2, 1, 1, 1, 1, 1]\n"
     ]
    }
   ],
   "source": [
    "k.sort()\n",
    "print (k)\n",
    "k.sort(reverse=True)\n",
    "print(k)"
   ]
  },
  {
   "cell_type": "code",
   "execution_count": 37,
   "metadata": {},
   "outputs": [
    {
     "name": "stdout",
     "output_type": "stream",
     "text": [
      "[1, 1, 1, 1, 1, 2, 4, 5, 6, 8, 9, 9]\n"
     ]
    }
   ],
   "source": [
    "k.reverse()\n",
    "print(k)"
   ]
  },
  {
   "cell_type": "code",
   "execution_count": 38,
   "metadata": {},
   "outputs": [
    {
     "data": {
      "text/plain": [
       "0"
      ]
     },
     "execution_count": 38,
     "metadata": {},
     "output_type": "execute_result"
    }
   ],
   "source": [
    "colors.index('red')"
   ]
  },
  {
   "cell_type": "code",
   "execution_count": null,
   "metadata": {},
   "outputs": [],
   "source": []
  }
 ],
 "metadata": {
  "kernelspec": {
   "display_name": "base",
   "language": "python",
   "name": "python3"
  },
  "language_info": {
   "codemirror_mode": {
    "name": "ipython",
    "version": 3
   },
   "file_extension": ".py",
   "mimetype": "text/x-python",
   "name": "python",
   "nbconvert_exporter": "python",
   "pygments_lexer": "ipython3",
   "version": "3.11.4"
  }
 },
 "nbformat": 4,
 "nbformat_minor": 2
}
